{
  "nbformat": 4,
  "nbformat_minor": 0,
  "metadata": {
    "colab": {
      "name": "OS11-EX6.ipynb",
      "provenance": []
    },
    "kernelspec": {
      "name": "python3",
      "display_name": "Python 3"
    },
    "language_info": {
      "name": "python"
    }
  },
  "cells": [
    {
      "cell_type": "code",
      "metadata": {
        "id": "C8RiswqfFDrl"
      },
      "source": [
        "import numpy as np\n",
        "from scipy.optimize import linprog\n",
        "import pandas as pd"
      ],
      "execution_count": 1,
      "outputs": []
    },
    {
      "cell_type": "code",
      "metadata": {
        "id": "GtfXUiCwFhX5"
      },
      "source": [
        "def NN2NA(NN):\n",
        "  rows,columns=NN.shape\n",
        "\n",
        "  columns_NA=np.count_nonzero(NN)\n",
        "  if(rows != columns):\n",
        "    print(\"Malformed NN Matrix. rows are not equal to columns\")\n",
        "    return none,none\n",
        "  k=0\n",
        "  NA=np.zeros((rows,columns_NA))\n",
        "  arches = [\"\" for i in range(columns_NA)]\n",
        "\n",
        "  for i in range(columns):\n",
        "    for j in range(rows):\n",
        "      if NN[i,j]==1:\n",
        "        NA[i,k]=1\n",
        "        NA[j,k]=-1\n",
        "        arches[k]=str(i+1)+\"->\"+str(j+1)\n",
        "        k+=1\n",
        "  return NA, arches\n",
        "\n",
        "\n",
        "def get_usage_string(arc_idxs, res_flow, capacity):\n",
        "    return {arc: '%s/%s' % (flow, cap) for arc, flow, cap in zip(arc_idxs, res_flow, capacity)}\n",
        "\n",
        "def get_min_cut(arc_idxs, np_res_flow, np_capacity):\n",
        "    np_capacity = np.where(np_capacity == None, 999, np_capacity)\n",
        "\n",
        "    idxs = np.argwhere((np_res_flow - np_capacity) == 0)\n",
        "    return [arc_idxs[i[0]] for i in idxs]"
      ],
      "execution_count": 2,
      "outputs": []
    },
    {
      "cell_type": "code",
      "metadata": {
        "colab": {
          "base_uri": "https://localhost:8080/"
        },
        "id": "Xa_D4tyoFM-O",
        "outputId": "b004368f-3a32-4001-e632-b913cd497f0f"
      },
      "source": [
        "NN = np.array([[0, 0, 0, 1, 1],\n",
        "               [0, 0, 0, 1, 1],\n",
        "               [0, 0, 0, 1, 1],\n",
        "               [0, 0, 0, 0, 0],\n",
        "               [0, 0, 0, 0, 0]])\n",
        "\n",
        "Aeq, arc_idxs = NN2NA(NN)\n",
        "C = np.array([10.0, 20.0, 10.0, 10.0, 10.0, 30.0])\n",
        "beq = np.array([10.0, 20.0, 15.0, -25.0, -20.0])\n",
        "bounds = tuple([(0, None) for arcs in range(0, Aeq.shape[1])])\n",
        "\n",
        "np.set_printoptions(formatter={'float': lambda x: \"{0:0.0f}\".format(x)})\n",
        "print('## Optimizer inputs ## \\n'\n",
        "      'Cost vector: %s \\n\\n '\n",
        "      'Arches in order:\\n%s \\n\\n'\n",
        "      'A_eq Node-Arc matrix:\\n%s \\n\\n'\n",
        "      'b_eq demand-supply vector: %s \\n\\n'\n",
        "      'Bounds of each X arc variable: %s' % (C,arc_idxs,Aeq, beq, bounds))"
      ],
      "execution_count": 3,
      "outputs": [
        {
          "output_type": "stream",
          "name": "stdout",
          "text": [
            "## Optimizer inputs ## \n",
            "Cost vector: [10 20 10 10 10 30] \n",
            "\n",
            " Arches in order:\n",
            "['1->4', '1->5', '2->4', '2->5', '3->4', '3->5'] \n",
            "\n",
            "A_eq Node-Arc matrix:\n",
            "[[1 1 0 0 0 0]\n",
            " [0 0 1 1 0 0]\n",
            " [0 0 0 0 1 1]\n",
            " [-1 0 -1 0 -1 0]\n",
            " [0 -1 0 -1 0 -1]] \n",
            "\n",
            "b_eq demand-supply vector: [10 20 15 -25 -20] \n",
            "\n",
            "Bounds of each X arc variable: ((0, None), (0, None), (0, None), (0, None), (0, None), (0, None))\n"
          ]
        }
      ]
    },
    {
      "cell_type": "code",
      "metadata": {
        "colab": {
          "base_uri": "https://localhost:8080/"
        },
        "id": "PA2dd06rFO5m",
        "outputId": "1220cbdc-b1e5-4983-ad8b-4a77832edbc5"
      },
      "source": [
        "# OPTIMIZE:\n",
        "\n",
        "res = linprog(C, A_eq=Aeq, b_eq=beq, bounds=bounds, method='simplex')\n",
        "\n",
        "# GET THE SOLUTION:\n",
        "\n",
        "np.set_printoptions(formatter={'float': lambda x: \"{0:0.2f}\".format(x)})\n",
        "print('## Results ##')\n",
        "df=pd.DataFrame(res.x,index=arc_idxs,columns=['Quantity'])\n",
        "print(df)"
      ],
      "execution_count": 4,
      "outputs": [
        {
          "output_type": "stream",
          "name": "stdout",
          "text": [
            "## Results ##\n",
            "      Quantity\n",
            "1->4      10.0\n",
            "1->5       0.0\n",
            "2->4       0.0\n",
            "2->5      20.0\n",
            "3->4      15.0\n",
            "3->5       0.0\n"
          ]
        },
        {
          "output_type": "stream",
          "name": "stderr",
          "text": [
            "/usr/local/lib/python3.7/dist-packages/ipykernel_launcher.py:3: OptimizeWarning: A_eq does not appear to be of full row rank. To improve performance, check the problem formulation for redundant equality constraints.\n",
            "  This is separate from the ipykernel package so we can avoid doing imports until\n"
          ]
        }
      ]
    },
    {
      "cell_type": "code",
      "metadata": {
        "id": "b4dG3A51QQr9"
      },
      "source": [
        ""
      ],
      "execution_count": 4,
      "outputs": []
    }
  ]
}