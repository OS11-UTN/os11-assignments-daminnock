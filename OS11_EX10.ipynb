{
  "nbformat": 4,
  "nbformat_minor": 0,
  "metadata": {
    "colab": {
      "name": "OS11_EX10.ipynb",
      "provenance": []
    },
    "kernelspec": {
      "name": "python3",
      "display_name": "Python 3"
    },
    "language_info": {
      "name": "python"
    }
  },
  "cells": [
    {
      "cell_type": "code",
      "metadata": {
        "id": "C8RiswqfFDrl"
      },
      "source": [
        "import numpy as np\n",
        "from scipy.optimize import linprog\n",
        "import pandas as pd\n",
        "import matplotlib.pyplot as plt\n"
      ],
      "execution_count": 1,
      "outputs": []
    },
    {
      "cell_type": "code",
      "metadata": {
        "id": "GtfXUiCwFhX5"
      },
      "source": [
        "def NN2NA(NN):\n",
        "  rows,columns=NN.shape\n",
        "\n",
        "  columns_NA=np.count_nonzero(NN)\n",
        "  if(rows != columns):\n",
        "    print(\"Malformed NN Matrix. rows are not equal to columns\")\n",
        "    return none,none\n",
        "  k=0\n",
        "  NA=np.zeros((rows,columns_NA))\n",
        "  arches = [\"\" for i in range(columns_NA)]\n",
        "\n",
        "  for i in range(columns):\n",
        "    for j in range(rows):\n",
        "      if NN[i,j]==1:\n",
        "        NA[i,k]=1\n",
        "        NA[j,k]=-1\n",
        "        #if i==0:\n",
        "        #  arches[k]=\"s->\"+str(j+1)\n",
        "        #elif j==0:\n",
        "        #  arches[k]=str(i+1)+\"->s\"\n",
        "        #elif i==columns-1:\n",
        "        #  arches[k]=\"t->\"+str(j+1)\n",
        "        #elif j==columns-1:\n",
        "        #  arches[k]=str(i+1)+\"->t\"\n",
        "        #else:\n",
        "        #  arches[k]=str(i+1)+\"->\"+str(j+1)\n",
        "        arches[k]=str(i+1)+\"->\"+str(j+1)\n",
        "        k+=1\n",
        "  return NA, arches\n",
        "\n",
        "\n",
        "def get_usage_string(arc_idxs, res_flow, capacity):\n",
        "    return {arc: '%s/%s' % (flow, cap) for arc, flow, cap in zip(arc_idxs, res_flow, capacity)}\n",
        "\n",
        "def get_min_cut(arc_idxs, np_res_flow, np_capacity):\n",
        "    np_capacity = np.where(np_capacity == None, 999, np_capacity)\n",
        "\n",
        "    idxs = np.argwhere((np_res_flow - np_capacity) == 0)\n",
        "    return [arc_idxs[i[0]] for i in idxs]\n",
        "\n",
        "\n",
        "def get_selected_arcs(arc_idxs, selected_arcs):\n",
        "    arc = []\n",
        "    for idx, i in enumerate(selected_arcs):\n",
        "        if np.isclose(i, 1, rtol=1e-05, atol=1e-08, equal_nan=False): # Vecinity\n",
        "            arc.append(arc_idxs[idx])\n",
        "    return arc"
      ],
      "execution_count": 2,
      "outputs": []
    },
    {
      "cell_type": "code",
      "metadata": {
        "colab": {
          "base_uri": "https://localhost:8080/"
        },
        "id": "d3Jrgw1WJVGq",
        "outputId": "5cd00068-6e2e-4aa9-87fa-45598af36d3d"
      },
      "source": [
        "\n",
        "NN = np.array([[0, 1, 1, 0, 0, 0],\n",
        "               [0, 0, 0, 1, 0, 1],\n",
        "               [0, 0, 0, 0, 1, 0],\n",
        "               [0, 0, 0, 0, 0, 1],\n",
        "               [0, 0, 0, 0, 0, 1],\n",
        "               [0, 0, 0, 0, 0, 0]])\n",
        "\n",
        "\n",
        "C = np.array([2, 2, 2, 5, 2, 1, 2])\n",
        "\n",
        "Aeq, arc_idxs = NN2NA(NN)\n",
        "beq = np.array([1, 0, 0, 0, 0, -1])\n",
        "\n",
        "max_q=None\n",
        "bounds = tuple([(0, max_q) for arcs in range(0, Aeq.shape[1])])\n",
        "t = [np.array([3, 1, 3, 1, 3, 3, 5])]\n",
        "#t = np.transpose(t)\n",
        "\n",
        "T=8\n",
        "\n",
        "\n",
        "print('## Optimizer inputs ## \\n'\n",
        "      'Cost vector: %s \\n\\n '\n",
        "      'Arches in order:\\n%s \\n\\n'\n",
        "      'A_eq Node-Arc matrix:\\n%s \\n\\n'\n",
        "      'b_eq demand-supply vector: %s \\n\\n'\n",
        "      'Bounds of each X arc variable: %s' % (C,arc_idxs,Aeq, beq, bounds))"
      ],
      "execution_count": 3,
      "outputs": [
        {
          "output_type": "stream",
          "name": "stdout",
          "text": [
            "## Optimizer inputs ## \n",
            "Cost vector: [2 2 2 5 2 1 2] \n",
            "\n",
            " Arches in order:\n",
            "['1->2', '1->3', '2->4', '2->6', '3->5', '4->6', '5->6'] \n",
            "\n",
            "A_eq Node-Arc matrix:\n",
            "[[ 1.  1.  0.  0.  0.  0.  0.]\n",
            " [-1.  0.  1.  1.  0.  0.  0.]\n",
            " [ 0. -1.  0.  0.  1.  0.  0.]\n",
            " [ 0.  0. -1.  0.  0.  1.  0.]\n",
            " [ 0.  0.  0.  0. -1.  0.  1.]\n",
            " [ 0.  0.  0. -1.  0. -1. -1.]] \n",
            "\n",
            "b_eq demand-supply vector: [ 1  0  0  0  0 -1] \n",
            "\n",
            "Bounds of each X arc variable: ((0, None), (0, None), (0, None), (0, None), (0, None), (0, None), (0, None))\n"
          ]
        }
      ]
    },
    {
      "cell_type": "code",
      "metadata": {
        "colab": {
          "base_uri": "https://localhost:8080/",
          "height": 337
        },
        "id": "PA2dd06rFO5m",
        "outputId": "620e1b3c-1327-4152-f21f-4d425f472828"
      },
      "source": [
        "# OPTIMIZE:\n",
        "\n",
        "l_values=np.arange(0,1,0.001)\n",
        "\n",
        "L_values=[]\n",
        "for l in l_values:\n",
        "  C_=C+np.multiply(t,l)\n",
        "  res = linprog(C_, A_eq=Aeq, b_eq=beq, bounds=bounds, method='revised simplex')\n",
        "\n",
        "  # GET THE SOLUTION:)\n",
        "  L_values=np.append(L_values,(res.fun-l*T))\n",
        "\n",
        "plt.plot(l_values,L_values)\n",
        "\n",
        "plt.xlabel(\"lambda\")\n",
        "plt.ylabel(\"L(lambda)\")\n"
      ],
      "execution_count": 5,
      "outputs": [
        {
          "output_type": "stream",
          "name": "stderr",
          "text": [
            "/usr/local/lib/python3.7/dist-packages/ipykernel_launcher.py:8: OptimizeWarning: A_eq does not appear to be of full row rank. To improve performance, check the problem formulation for redundant equality constraints.\n",
            "  \n"
          ]
        },
        {
          "output_type": "execute_result",
          "data": {
            "text/plain": [
              "Text(0, 0.5, 'L(lambda)')"
            ]
          },
          "metadata": {},
          "execution_count": 5
        },
        {
          "output_type": "display_data",
          "data": {
            "image/png": "[encoded data removed]",
            "text/plain": [
              "<Figure size 432x288 with 1 Axes>"
            ]
          },
          "metadata": {
            "needs_background": "light"
          }
        }
      ]
    },
    {
      "cell_type": "code",
      "metadata": {
        "colab": {
          "base_uri": "https://localhost:8080/"
        },
        "id": "rQ74fm7JWlyp",
        "outputId": "fd7f2b76-2d4c-4a21-cd30-470e7ec547ed"
      },
      "source": [
        "Max_L=np.max(L_values)\n",
        "index=np.argmax(L_values)\n",
        "Max_l=l_values[index]\n",
        "print(\"The max L is:\",Max_L, \"and correspond to l=\",Max_l)\n",
        "\n",
        "C_=C+np.multiply(t,l)\n",
        "res = linprog(C_, A_eq=Aeq, b_eq=beq, bounds=bounds, method='revised simplex')\n",
        "\n",
        "selarcs = get_selected_arcs(arc_idxs, res.x)\n",
        "\n",
        "\n",
        "total_time=0\n",
        "for i in selarcs:\n",
        "  index=arc_idxs.index(i)\n",
        "  total_time= total_time+t[0][index]\n",
        "\n",
        "print('The arches are:          :',arc_idxs)\n",
        "print('The raw solution will be:    %s' % res.x)\n",
        "print('The arcs that make the shortest path will be (from, to): %s' % selarcs)\n",
        "print('The minimum cost of this function that considerds lamda will be: %0.2f (it is not representative of the original problem)' % res.fun)\n",
        "print('The time will be:',total_time,'\\n\\n')\n",
        "print('The algorithm does not resolve ok the problem.')"
      ],
      "execution_count": 16,
      "outputs": [
        {
          "output_type": "stream",
          "name": "stdout",
          "text": [
            "The max L is: 5.400000000000001 and correspond to l= 0.4\n",
            "The arches are:          : ['1->2', '1->3', '2->4', '2->6', '3->5', '4->6', '5->6']\n",
            "The raw solution will be:    [1. 0. 0. 1. 0. 0. 0.]\n",
            "The arcs that make the shortest path will be (from, to): ['1->2', '2->6']\n",
            "The minimum cost of this function that considerds lamda will be: 11.00 (it is not representative of the original problem)\n",
            "The time would be: 4 \n",
            "\n",
            "\n",
            "The algorithm does not resolve ok the problem.\n"
          ]
        },
        {
          "output_type": "stream",
          "name": "stderr",
          "text": [
            "/usr/local/lib/python3.7/dist-packages/ipykernel_launcher.py:7: OptimizeWarning: A_eq does not appear to be of full row rank. To improve performance, check the problem formulation for redundant equality constraints.\n",
            "  import sys\n"
          ]
        }
      ]
    }
  ]
}