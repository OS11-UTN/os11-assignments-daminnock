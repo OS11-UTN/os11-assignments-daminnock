{
  "nbformat": 4,
  "nbformat_minor": 0,
  "metadata": {
    "colab": {
      "name": "OS11-EX2.ipynb",
      "provenance": []
    },
    "kernelspec": {
      "name": "python3",
      "display_name": "Python 3"
    },
    "language_info": {
      "name": "python"
    }
  },
  "cells": [
    {
      "cell_type": "code",
      "metadata": {
        "id": "C8RiswqfFDrl"
      },
      "source": [
        "import numpy as np\n",
        "from scipy.optimize import linprog"
      ],
      "execution_count": 1,
      "outputs": []
    },
    {
      "cell_type": "code",
      "metadata": {
        "id": "GtfXUiCwFhX5"
      },
      "source": [
        "def NN2NA(NN):\n",
        "  rows,columns=NN.shape\n",
        "\n",
        "  columns_NA=np.count_nonzero(NN)\n",
        "  if(rows != columns):\n",
        "    print(\"Malformed NN Matrix. rows are not equal to columns\")\n",
        "    return none,none\n",
        "  k=0\n",
        "  NA=np.zeros((rows,columns_NA))\n",
        "  arches = [\"\" for i in range(columns_NA)]\n",
        "\n",
        "  for i in range(columns):\n",
        "    for j in range(rows):\n",
        "      if NN[i,j]==1:\n",
        "        NA[i,k]=1\n",
        "        NA[j,k]=-1\n",
        "        if i==0:\n",
        "          arches[k]=\"s->\"+str(j+1)\n",
        "        elif j==0:\n",
        "          arches[k]=str(i+1)+\"->s\"\n",
        "        elif i==columns-1:\n",
        "          arches[k]=\"t->\"+str(j+1)\n",
        "        elif j==columns-1:\n",
        "          arches[k]=str(i+1)+\"->t\"\n",
        "        else:\n",
        "          arches[k]=str(i+1)+\"->\"+str(j+1)\n",
        "        k+=1\n",
        "  return NA, arches\n",
        "\n",
        "\n",
        "def get_selected_arcs(arc_idxs, selected_arcs):\n",
        "    arc = []\n",
        "    for idx, i in enumerate(selected_arcs):\n",
        "        if np.isclose(i, 1, rtol=1e-05, atol=1e-08, equal_nan=False): # Vecinity\n",
        "            arc.append(arc_idxs[idx])\n",
        "    return arc"
      ],
      "execution_count": 2,
      "outputs": []
    },
    {
      "cell_type": "code",
      "metadata": {
        "colab": {
          "base_uri": "https://localhost:8080/"
        },
        "id": "Xa_D4tyoFM-O",
        "outputId": "dcda2081-c37f-4086-fff8-31f26be95250"
      },
      "source": [
        "\n",
        "NN = np.array([[0, 1, 1, 0, 0, 0],\n",
        "               [0, 0, 0, 1, 0, 1],\n",
        "               [0, 0, 0, 0, 1, 0],\n",
        "               [0, 0, 0, 0, 0, 1],\n",
        "               [0, 0, 0, 0, 0, 1],\n",
        "               [0, 0, 0, 0, 0, 0]])\n",
        "\n",
        "\n",
        "C = np.array([2, 2, 2, 5, 2, 1, 2])\n",
        "Aeq, arc_idxs = NN2NA(NN)\n",
        "beq = np.array([1, 0, 0, 0, 0, -1])\n",
        "bounds = tuple([(0, None) for arcs in range(0, Aeq.shape[1])])\n",
        "\n",
        "print('## Optimizer inputs ## \\n'\n",
        "      'Cost vector: %s \\n\\n '\n",
        "      'Arches in order:\\n%s \\n\\n'\n",
        "      'A_eq Node-Arc matrix:\\n%s \\n\\n'\n",
        "      'b_eq demand-supply vector: %s \\n\\n'\n",
        "      'Bounds of each X arc variable: %s' % (C,arc_idxs,Aeq, beq, bounds))"
      ],
      "execution_count": 3,
      "outputs": [
        {
          "output_type": "stream",
          "name": "stdout",
          "text": [
            "## Optimizer inputs ## \n",
            "Cost vector: [2 2 2 5 2 1 2] \n",
            "\n",
            " Arches in order:\n",
            "['s->2', 's->3', '2->4', '2->t', '3->5', '4->t', '5->t'] \n",
            "\n",
            "A_eq Node-Arc matrix:\n",
            "[[ 1.  1.  0.  0.  0.  0.  0.]\n",
            " [-1.  0.  1.  1.  0.  0.  0.]\n",
            " [ 0. -1.  0.  0.  1.  0.  0.]\n",
            " [ 0.  0. -1.  0.  0.  1.  0.]\n",
            " [ 0.  0.  0.  0. -1.  0.  1.]\n",
            " [ 0.  0.  0. -1.  0. -1. -1.]] \n",
            "\n",
            "b_eq demand-supply vector: [ 1  0  0  0  0 -1] \n",
            "\n",
            "Bounds of each X arc variable: ((0, None), (0, None), (0, None), (0, None), (0, None), (0, None), (0, None))\n"
          ]
        }
      ]
    },
    {
      "cell_type": "code",
      "metadata": {
        "colab": {
          "base_uri": "https://localhost:8080/"
        },
        "id": "PA2dd06rFO5m",
        "outputId": "d32c3ba8-2225-459d-ea70-9701c7ed0cdb"
      },
      "source": [
        "# OPTIMIZE:\n",
        "np.set_printoptions(formatter={'float': lambda x: \"{0:0.2f}\".format(x)})\n",
        "\n",
        "for name_method in 'interior-point', 'revised simplex':\n",
        "    # OPTIMIZE:\n",
        "    res = linprog(C, A_eq=Aeq, b_eq=beq, bounds=bounds, method=name_method)\n",
        "\n",
        "    # GET THE SOLUTION:\n",
        "    selarcs = get_selected_arcs(arc_idxs, res.x)\n",
        "    print('\\n ## Results for %s ## ' % name_method)\n",
        "    print('The raw solution will be: %s' % res.x)\n",
        "    print('The arcs that make the shortest path will be (from, to): %s' % selarcs)\n",
        "    print('The minimum cost will be: %0.2f\\n' % res.fun)\n",
        "\n",
        "print(\"\\n\\n\")\n"
      ],
      "execution_count": 4,
      "outputs": [
        {
          "output_type": "stream",
          "name": "stdout",
          "text": [
            "\n",
            " ## Results for interior-point ## \n",
            "The raw solution will be: [1.00 0.00 1.00 0.00 0.00 1.00 0.00]\n",
            "The arcs that make the shortest path will be (from, to): ['s->2', '2->4', '4->t']\n",
            "The minimum cost will be: 5.00\n",
            "\n",
            "\n",
            " ## Results for revised simplex ## \n",
            "The raw solution will be: [1.00 0.00 1.00 0.00 0.00 1.00 0.00]\n",
            "The arcs that make the shortest path will be (from, to): ['s->2', '2->4', '4->t']\n",
            "The minimum cost will be: 5.00\n",
            "\n",
            "\n",
            "\n",
            "\n"
          ]
        },
        {
          "output_type": "stream",
          "name": "stderr",
          "text": [
            "/usr/local/lib/python3.7/dist-packages/ipykernel_launcher.py:6: OptimizeWarning: A_eq does not appear to be of full row rank. To improve performance, check the problem formulation for redundant equality constraints.\n",
            "  \n",
            "/usr/local/lib/python3.7/dist-packages/numpy/core/fromnumeric.py:87: VisibleDeprecationWarning: Creating an ndarray from ragged nested sequences (which is a list-or-tuple of lists-or-tuples-or ndarrays with different lengths or shapes) is deprecated. If you meant to do this, you must specify 'dtype=object' when creating the ndarray\n",
            "  return ufunc.reduce(obj, axis, dtype, out, **passkwargs)\n"
          ]
        }
      ]
    }
  ]
}