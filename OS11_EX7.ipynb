{
  "nbformat": 4,
  "nbformat_minor": 0,
  "metadata": {
    "colab": {
      "name": "OS11-EX7.ipynb",
      "provenance": []
    },
    "kernelspec": {
      "name": "python3",
      "display_name": "Python 3"
    },
    "language_info": {
      "name": "python"
    }
  },
  "cells": [
    {
      "cell_type": "code",
      "metadata": {
        "id": "C8RiswqfFDrl"
      },
      "source": [
        "import numpy as np\n",
        "from scipy.optimize import linprog"
      ],
      "execution_count": 2,
      "outputs": []
    },
    {
      "cell_type": "code",
      "metadata": {
        "id": "GtfXUiCwFhX5"
      },
      "source": [
        "def NN2NA(NN):\n",
        "  rows,columns=NN.shape\n",
        "\n",
        "  columns_NA=np.count_nonzero(NN)\n",
        "  if(rows != columns):\n",
        "    print(\"Malformed NN Matrix. rows are not equal to columns\")\n",
        "    return none,none\n",
        "  k=0\n",
        "  NA=np.zeros((rows,columns_NA))\n",
        "  arches = [\"\" for i in range(columns_NA)]\n",
        "\n",
        "  for i in range(columns):\n",
        "    for j in range(rows):\n",
        "      if NN[i,j]==1:\n",
        "        NA[i,k]=1\n",
        "        NA[j,k]=-1\n",
        "        if i==0:\n",
        "          arches[k]=\"s->\"+str(j+1)\n",
        "        elif j==0:\n",
        "          arches[k]=str(i+1)+\"->s\"\n",
        "        elif i==columns-1:\n",
        "          arches[k]=\"t->\"+str(j+1)\n",
        "        elif j==columns-1:\n",
        "          arches[k]=str(i+1)+\"->t\"\n",
        "        else:\n",
        "          arches[k]=str(i+1)+\"->\"+str(j+1)\n",
        "        k+=1\n",
        "  return NA, arches\n",
        "\n",
        "\n",
        "def get_usage_string(arc_idxs, res_flow, capacity):\n",
        "    return {arc: '%s/%s' % (flow, cap) for arc, flow, cap in zip(arc_idxs, res_flow, capacity)}\n",
        "\n",
        "def get_min_cut(arc_idxs, np_res_flow, np_capacity):\n",
        "    np_capacity = np.where(np_capacity == None, 999, np_capacity)\n",
        "\n",
        "    idxs = np.argwhere((np_res_flow - np_capacity) == 0)\n",
        "    return [arc_idxs[i[0]] for i in idxs]"
      ],
      "execution_count": 3,
      "outputs": []
    },
    {
      "cell_type": "code",
      "metadata": {
        "colab": {
          "base_uri": "https://localhost:8080/"
        },
        "id": "Xa_D4tyoFM-O",
        "outputId": "869cbb03-12e5-40e0-c5d8-31a86448cce0"
      },
      "source": [
        "              # s  s1 s2 s3 s4 s5 s6 a1 a2 a3 a4 a5 a6 b1 b2 b3 b4 b5 b6 t1 t2 t3 t4 t5 t6 t\n",
        "NN = np.array([[0, 1, 1, 1, 1, 1, 1, 0, 0, 0, 0, 0, 0, 0, 0, 0, 0, 0, 0, 0, 0, 0, 0, 0, 0, 0],\n",
        "               [0, 0, 0, 0, 0, 0, 0, 0, 1, 0, 0, 0, 0, 0, 0, 0, 1, 0, 0, 0, 0, 0, 0, 0, 0, 0],\n",
        "               [0, 0, 0, 0, 0, 0, 0, 0, 0, 1, 0, 0, 0, 0, 0, 0, 0, 1, 0, 0, 0, 0, 0, 0, 0, 0],\n",
        "               [0, 0, 0, 0, 0, 0, 0, 0, 0, 0, 1, 0, 0, 0, 0, 0, 0, 0, 1, 0, 0, 0, 0, 0, 0, 0],\n",
        "               [0, 0, 0, 0, 0, 0, 0, 0, 0, 0, 0, 1, 0, 0, 0, 0, 0, 0, 0, 0, 0, 0, 0, 0, 0, 0],\n",
        "               [0, 0, 0, 0, 0, 0, 0, 0, 0, 0, 0, 0, 1, 0, 0, 0, 0, 0, 0, 0, 0, 0, 0, 0, 0, 0],\n",
        "               [0, 0, 0, 0, 0, 0, 0, 0, 0, 0, 0, 0, 0, 0, 0, 0, 0, 0, 0, 0, 0, 0, 0, 0, 0, 0],\n",
        "               [0, 0, 0, 0, 0, 0, 0, 0, 0, 0, 0, 0, 0, 0, 0, 1, 0, 0, 0, 0, 1, 0, 0, 0, 0, 0],\n",
        "               [0, 0, 0, 0, 0, 0, 0, 0, 0, 0, 0, 0, 0, 0, 0, 0, 1, 0, 0, 0, 0, 1, 0, 0, 0, 0],\n",
        "               [0, 0, 0, 0, 0, 0, 0, 0, 0, 0, 0, 0, 0, 0, 0, 0, 0, 1, 0, 0, 0, 0, 1, 0, 0, 0],\n",
        "               [0, 0, 0, 0, 0, 0, 0, 0, 0, 0, 0, 0, 0, 0, 0, 0, 0, 0, 1, 0, 0, 0, 0, 1, 0, 0],\n",
        "               [0, 0, 0, 0, 0, 0, 0, 0, 0, 0, 0, 0, 0, 0, 0, 0, 0, 0, 0, 0, 0, 0, 0, 0, 1, 0],\n",
        "               [0, 0, 0, 0, 0, 0, 0, 0, 0, 0, 0, 0, 0, 0, 0, 0, 0, 0, 0, 0, 0, 0, 0, 0, 0, 0],\n",
        "               [0, 0, 0, 0, 0, 0, 0, 0, 0, 0, 0, 0, 0, 0, 0, 0, 0, 0, 0, 0, 1, 0, 0, 0, 0, 0],\n",
        "               [0, 0, 0, 0, 0, 0, 0, 0, 0, 0, 0, 0, 0, 0, 0, 0, 0, 0, 0, 0, 0, 0, 0, 0, 0, 0],\n",
        "               [0, 0, 0, 0, 0, 0, 0, 0, 0, 0, 0, 0, 0, 0, 0, 0, 0, 0, 0, 0, 0, 0, 0, 0, 0, 0],\n",
        "               [0, 0, 0, 0, 0, 0, 0, 0, 0, 0, 0, 0, 0, 0, 0, 0, 0, 0, 0, 0, 0, 0, 0, 1, 0, 0],\n",
        "               [0, 0, 0, 0, 0, 0, 0, 0, 0, 0, 0, 0, 0, 0, 0, 0, 0, 0, 0, 0, 0, 0, 0, 0, 1, 0],\n",
        "               [0, 0, 0, 0, 0, 0, 0, 0, 0, 0, 0, 0, 0, 0, 0, 0, 0, 0, 0, 0, 0, 0, 0, 0, 0, 0],\n",
        "               [0, 0, 0, 0, 0, 0, 0, 0, 0, 0, 0, 0, 0, 0, 0, 0, 0, 0, 0, 0, 0, 0, 0, 0, 0, 1],\n",
        "               [0, 0, 0, 0, 0, 0, 0, 0, 0, 0, 0, 0, 0, 0, 0, 0, 0, 0, 0, 0, 0, 0, 0, 0, 0, 1],\n",
        "               [0, 0, 0, 0, 0, 0, 0, 0, 0, 0, 0, 0, 0, 0, 0, 0, 0, 0, 0, 0, 0, 0, 0, 0, 0, 1],\n",
        "               [0, 0, 0, 0, 0, 0, 0, 0, 0, 0, 0, 0, 0, 0, 0, 0, 0, 0, 0, 0, 0, 0, 0, 0, 0, 1],\n",
        "               [0, 0, 0, 0, 0, 0, 0, 0, 0, 0, 0, 0, 0, 0, 0, 0, 0, 0, 0, 0, 0, 0, 0, 0, 0, 1],\n",
        "               [0, 0, 0, 0, 0, 0, 0, 0, 0, 0, 0, 0, 0, 0, 0, 0, 0, 0, 0, 0, 0, 0, 0, 0, 0, 1],\n",
        "               [1, 0, 0, 0, 0, 0, 0, 0, 0, 0, 0, 0, 0, 0, 0, 0, 0, 0, 0, 0, 0, 0, 0, 0, 0, 0]])\n",
        "\n",
        "\n",
        "Aeq, arc_idxs = NN2NA(NN)\n",
        "\n",
        "C = np.zeros(Aeq.shape[1]-1)\n",
        "C=np.append(C,-1)\n",
        "\n",
        "beq = np.zeros(NN.shape[1])\n",
        "\n",
        "max_q = [#s->2, s->3, s->4, s->5, s->6, s->7, 6\n",
        "         None, None, None, None, None, None,\n",
        "        #2->9, 2->17, 3->10, 3->18, 4->11, 4->19, 5->12, 6->13, 8\n",
        "         5, 10, 5, 10, 5, 10, 5, 5, \n",
        "        #8->16, 8->21, 9->17, 9->22, 10->18, 10->23, 11->19, 11->24, 12->25, 9 \n",
        "         3, 6, 3, 6, 3, 6, 3, 6, 3,\n",
        "        #14->21, 17->24, 18->25,  3\n",
        "         3, 3, 3,\n",
        "        #20->t, 21->t, 22->t, 23->t, 24->t, 25->t 6\n",
        "         None, None, None, None, None, None,\n",
        "        #t->1] 1\n",
        "         None]\n",
        "\n",
        "         \n",
        "         \n",
        "\n",
        "\n",
        "bounds = tuple([(0, max_q[arcs]) for arcs in range(0, Aeq.shape[1])])\n",
        "\n",
        "print('## Optimizer inputs ## \\n'\n",
        "      'Cost vector: %s \\n\\n '\n",
        "      'Arches in order:\\n%s \\n\\n'\n",
        "      'A_eq Node-Arc matrix:\\n%s \\n\\n'\n",
        "      'b_eq demand-supply vector: %s \\n\\n'\n",
        "      'Bounds of each X arc variable: %s' % (C,arc_idxs,Aeq, beq, bounds))"
      ],
      "execution_count": 20,
      "outputs": [
        {
          "output_type": "stream",
          "name": "stdout",
          "text": [
            "## Optimizer inputs ## \n",
            "Cost vector: [ 0.  0.  0.  0.  0.  0.  0.  0.  0.  0.  0.  0.  0.  0.  0.  0.  0.  0.\n",
            "  0.  0.  0.  0.  0.  0.  0.  0.  0.  0.  0.  0.  0.  0. -1.] \n",
            "\n",
            " Arches in order:\n",
            "['s->2', 's->3', 's->4', 's->5', 's->6', 's->7', '2->9', '2->17', '3->10', '3->18', '4->11', '4->19', '5->12', '6->13', '8->16', '8->21', '9->17', '9->22', '10->18', '10->23', '11->19', '11->24', '12->25', '14->21', '17->24', '18->25', '20->t', '21->t', '22->t', '23->t', '24->t', '25->t', '26->s'] \n",
            "\n",
            "A_eq Node-Arc matrix:\n",
            "[[ 1.  1.  1.  1.  1.  1.  0.  0.  0.  0.  0.  0.  0.  0.  0.  0.  0.  0.\n",
            "   0.  0.  0.  0.  0.  0.  0.  0.  0.  0.  0.  0.  0.  0. -1.]\n",
            " [-1.  0.  0.  0.  0.  0.  1.  1.  0.  0.  0.  0.  0.  0.  0.  0.  0.  0.\n",
            "   0.  0.  0.  0.  0.  0.  0.  0.  0.  0.  0.  0.  0.  0.  0.]\n",
            " [ 0. -1.  0.  0.  0.  0.  0.  0.  1.  1.  0.  0.  0.  0.  0.  0.  0.  0.\n",
            "   0.  0.  0.  0.  0.  0.  0.  0.  0.  0.  0.  0.  0.  0.  0.]\n",
            " [ 0.  0. -1.  0.  0.  0.  0.  0.  0.  0.  1.  1.  0.  0.  0.  0.  0.  0.\n",
            "   0.  0.  0.  0.  0.  0.  0.  0.  0.  0.  0.  0.  0.  0.  0.]\n",
            " [ 0.  0.  0. -1.  0.  0.  0.  0.  0.  0.  0.  0.  1.  0.  0.  0.  0.  0.\n",
            "   0.  0.  0.  0.  0.  0.  0.  0.  0.  0.  0.  0.  0.  0.  0.]\n",
            " [ 0.  0.  0.  0. -1.  0.  0.  0.  0.  0.  0.  0.  0.  1.  0.  0.  0.  0.\n",
            "   0.  0.  0.  0.  0.  0.  0.  0.  0.  0.  0.  0.  0.  0.  0.]\n",
            " [ 0.  0.  0.  0.  0. -1.  0.  0.  0.  0.  0.  0.  0.  0.  0.  0.  0.  0.\n",
            "   0.  0.  0.  0.  0.  0.  0.  0.  0.  0.  0.  0.  0.  0.  0.]\n",
            " [ 0.  0.  0.  0.  0.  0.  0.  0.  0.  0.  0.  0.  0.  0.  1.  1.  0.  0.\n",
            "   0.  0.  0.  0.  0.  0.  0.  0.  0.  0.  0.  0.  0.  0.  0.]\n",
            " [ 0.  0.  0.  0.  0.  0. -1.  0.  0.  0.  0.  0.  0.  0.  0.  0.  1.  1.\n",
            "   0.  0.  0.  0.  0.  0.  0.  0.  0.  0.  0.  0.  0.  0.  0.]\n",
            " [ 0.  0.  0.  0.  0.  0.  0.  0. -1.  0.  0.  0.  0.  0.  0.  0.  0.  0.\n",
            "   1.  1.  0.  0.  0.  0.  0.  0.  0.  0.  0.  0.  0.  0.  0.]\n",
            " [ 0.  0.  0.  0.  0.  0.  0.  0.  0.  0. -1.  0.  0.  0.  0.  0.  0.  0.\n",
            "   0.  0.  1.  1.  0.  0.  0.  0.  0.  0.  0.  0.  0.  0.  0.]\n",
            " [ 0.  0.  0.  0.  0.  0.  0.  0.  0.  0.  0.  0. -1.  0.  0.  0.  0.  0.\n",
            "   0.  0.  0.  0.  1.  0.  0.  0.  0.  0.  0.  0.  0.  0.  0.]\n",
            " [ 0.  0.  0.  0.  0.  0.  0.  0.  0.  0.  0.  0.  0. -1.  0.  0.  0.  0.\n",
            "   0.  0.  0.  0.  0.  0.  0.  0.  0.  0.  0.  0.  0.  0.  0.]\n",
            " [ 0.  0.  0.  0.  0.  0.  0.  0.  0.  0.  0.  0.  0.  0.  0.  0.  0.  0.\n",
            "   0.  0.  0.  0.  0.  1.  0.  0.  0.  0.  0.  0.  0.  0.  0.]\n",
            " [ 0.  0.  0.  0.  0.  0.  0.  0.  0.  0.  0.  0.  0.  0.  0.  0.  0.  0.\n",
            "   0.  0.  0.  0.  0.  0.  0.  0.  0.  0.  0.  0.  0.  0.  0.]\n",
            " [ 0.  0.  0.  0.  0.  0.  0.  0.  0.  0.  0.  0.  0.  0. -1.  0.  0.  0.\n",
            "   0.  0.  0.  0.  0.  0.  0.  0.  0.  0.  0.  0.  0.  0.  0.]\n",
            " [ 0.  0.  0.  0.  0.  0.  0. -1.  0.  0.  0.  0.  0.  0.  0.  0. -1.  0.\n",
            "   0.  0.  0.  0.  0.  0.  1.  0.  0.  0.  0.  0.  0.  0.  0.]\n",
            " [ 0.  0.  0.  0.  0.  0.  0.  0.  0. -1.  0.  0.  0.  0.  0.  0.  0.  0.\n",
            "  -1.  0.  0.  0.  0.  0.  0.  1.  0.  0.  0.  0.  0.  0.  0.]\n",
            " [ 0.  0.  0.  0.  0.  0.  0.  0.  0.  0.  0. -1.  0.  0.  0.  0.  0.  0.\n",
            "   0.  0. -1.  0.  0.  0.  0.  0.  0.  0.  0.  0.  0.  0.  0.]\n",
            " [ 0.  0.  0.  0.  0.  0.  0.  0.  0.  0.  0.  0.  0.  0.  0.  0.  0.  0.\n",
            "   0.  0.  0.  0.  0.  0.  0.  0.  1.  0.  0.  0.  0.  0.  0.]\n",
            " [ 0.  0.  0.  0.  0.  0.  0.  0.  0.  0.  0.  0.  0.  0.  0. -1.  0.  0.\n",
            "   0.  0.  0.  0.  0. -1.  0.  0.  0.  1.  0.  0.  0.  0.  0.]\n",
            " [ 0.  0.  0.  0.  0.  0.  0.  0.  0.  0.  0.  0.  0.  0.  0.  0.  0. -1.\n",
            "   0.  0.  0.  0.  0.  0.  0.  0.  0.  0.  1.  0.  0.  0.  0.]\n",
            " [ 0.  0.  0.  0.  0.  0.  0.  0.  0.  0.  0.  0.  0.  0.  0.  0.  0.  0.\n",
            "   0. -1.  0.  0.  0.  0.  0.  0.  0.  0.  0.  1.  0.  0.  0.]\n",
            " [ 0.  0.  0.  0.  0.  0.  0.  0.  0.  0.  0.  0.  0.  0.  0.  0.  0.  0.\n",
            "   0.  0.  0. -1.  0.  0. -1.  0.  0.  0.  0.  0.  1.  0.  0.]\n",
            " [ 0.  0.  0.  0.  0.  0.  0.  0.  0.  0.  0.  0.  0.  0.  0.  0.  0.  0.\n",
            "   0.  0.  0.  0. -1.  0.  0. -1.  0.  0.  0.  0.  0.  1.  0.]\n",
            " [ 0.  0.  0.  0.  0.  0.  0.  0.  0.  0.  0.  0.  0.  0.  0.  0.  0.  0.\n",
            "   0.  0.  0.  0.  0.  0.  0.  0. -1. -1. -1. -1. -1. -1.  1.]] \n",
            "\n",
            "b_eq demand-supply vector: [0. 0. 0. 0. 0. 0. 0. 0. 0. 0. 0. 0. 0. 0. 0. 0. 0. 0. 0. 0. 0. 0. 0. 0.\n",
            " 0. 0.] \n",
            "\n",
            "Bounds of each X arc variable: ((0, None), (0, None), (0, None), (0, None), (0, None), (0, None), (0, 5), (0, 10), (0, 5), (0, 10), (0, 5), (0, 10), (0, 5), (0, 5), (0, 3), (0, 6), (0, 3), (0, 6), (0, 3), (0, 6), (0, 3), (0, 6), (0, 3), (0, 3), (0, 3), (0, 3), (0, None), (0, None), (0, None), (0, None), (0, None), (0, None), (0, None))\n"
          ]
        }
      ]
    },
    {
      "cell_type": "code",
      "metadata": {
        "colab": {
          "base_uri": "https://localhost:8080/"
        },
        "id": "ln_MK4mFOtjZ",
        "outputId": "3ae8b00b-747d-4712-97df-730635e3b9e3"
      },
      "source": [
        ""
      ],
      "execution_count": 18,
      "outputs": [
        {
          "output_type": "execute_result",
          "data": {
            "text/plain": [
              "33"
            ]
          },
          "metadata": {},
          "execution_count": 18
        }
      ]
    },
    {
      "cell_type": "code",
      "metadata": {
        "colab": {
          "base_uri": "https://localhost:8080/"
        },
        "id": "PA2dd06rFO5m",
        "outputId": "b9b44bf6-6a1c-4726-f185-f4e73bd499ef"
      },
      "source": [
        "# OPTIMIZE:\n",
        "\n",
        "res = linprog(C, A_eq=Aeq, b_eq=beq, bounds=bounds, method='simplex')\n",
        "\n",
        "# GET THE SOLUTION:\n",
        "usage = get_usage_string(arc_idxs, res.x.astype(int), max_q)\n",
        "min_cut = get_min_cut(arc_idxs, res.x, np.array(max_q))\n",
        "max_flow = res.fun * -1\n",
        "\n",
        "np.set_printoptions(formatter={'float': lambda x: \"{0:0.2f}\".format(x)})\n",
        "print('## Results ##')\n",
        "print('The usage of each arc will be %s' % usage)\n",
        "print('The arcs that produce the minimum cut : %s' % min_cut)\n",
        "print('The maximum flow will be: %0.2f\\n\\n\\n' % max_flow)"
      ],
      "execution_count": 21,
      "outputs": [
        {
          "output_type": "stream",
          "name": "stdout",
          "text": [
            "## Results ##\n",
            "The usage of each arc will be {'s->2': '8/None', 's->3': '8/None', 's->4': '5/None', 's->5': '3/None', 's->6': '0/None', 's->7': '0/None', '2->9': '5/5', '2->17': '3/10', '3->10': '5/5', '3->18': '3/10', '4->11': '5/5', '4->19': '0/10', '5->12': '3/5', '6->13': '0/5', '8->16': '0/3', '8->21': '0/6', '9->17': '0/3', '9->22': '5/6', '10->18': '0/3', '10->23': '5/6', '11->19': '0/3', '11->24': '5/6', '12->25': '3/3', '14->21': '0/3', '17->24': '3/3', '18->25': '3/3', '20->t': '0/None', '21->t': '0/None', '22->t': '5/None', '23->t': '5/None', '24->t': '8/None', '25->t': '6/None', '26->s': '24/None'}\n",
            "The arcs that produce the minimum cut : ['2->9', '3->10', '4->11', '12->25', '17->24', '18->25']\n",
            "The maximum flow will be: 24.00\n",
            "\n",
            "\n",
            "\n"
          ]
        },
        {
          "output_type": "stream",
          "name": "stderr",
          "text": [
            "/usr/local/lib/python3.7/dist-packages/ipykernel_launcher.py:3: OptimizeWarning: A_eq does not appear to be of full row rank. To improve performance, check the problem formulation for redundant equality constraints.\n",
            "  This is separate from the ipykernel package so we can avoid doing imports until\n"
          ]
        }
      ]
    }
  ]
}