{
  "nbformat": 4,
  "nbformat_minor": 0,
  "metadata": {
    "colab": {
      "name": "OS11_EX12.ipynb",
      "provenance": [],
      "collapsed_sections": []
    },
    "kernelspec": {
      "name": "python3",
      "display_name": "Python 3"
    },
    "language_info": {
      "name": "python"
    }
  },
  "cells": [
    {
      "cell_type": "code",
      "metadata": {
        "id": "C8RiswqfFDrl"
      },
      "source": [
        "import numpy as np\n",
        "from scipy.optimize import linprog\n",
        "import pandas as pd\n",
        "import matplotlib.pyplot as plt\n"
      ],
      "execution_count": 1,
      "outputs": []
    },
    {
      "cell_type": "code",
      "metadata": {
        "id": "GtfXUiCwFhX5"
      },
      "source": [
        "def NN2NA(NN):\n",
        "  rows,columns=NN.shape\n",
        "\n",
        "  columns_NA=np.count_nonzero(NN)\n",
        "  if(rows != columns):\n",
        "    print(\"Malformed NN Matrix. rows are not equal to columns\")\n",
        "    return none,none\n",
        "  k=0\n",
        "  NA=np.zeros((rows,columns_NA))\n",
        "  arches = [\"\" for i in range(columns_NA)]\n",
        "\n",
        "  for i in range(columns):\n",
        "    for j in range(rows):\n",
        "      if NN[i,j]==1:\n",
        "        NA[i,k]=1\n",
        "        NA[j,k]=-1\n",
        "        #if i==0:\n",
        "        #  arches[k]=\"s->\"+str(j+1)\n",
        "        #elif j==0:\n",
        "        #  arches[k]=str(i+1)+\"->s\"\n",
        "        #elif i==columns-1:\n",
        "        #  arches[k]=\"t->\"+str(j+1)\n",
        "        #elif j==columns-1:\n",
        "        #  arches[k]=str(i+1)+\"->t\"\n",
        "        #else:\n",
        "        #  arches[k]=str(i+1)+\"->\"+str(j+1)\n",
        "        arches[k]=(i,j)\n",
        "        k+=1\n",
        "  return NA, arches\n",
        "\n",
        "\n",
        "def get_usage_string(arc_idxs, res_flow, capacity):\n",
        "    return {arc: '%s/%s' % (flow, cap) for arc, flow, cap in zip(arc_idxs, res_flow, capacity)}\n",
        "\n",
        "def get_min_cut(arc_idxs, np_res_flow, np_capacity):\n",
        "    np_capacity = np.where(np_capacity == None, 999, np_capacity)\n",
        "\n",
        "    idxs = np.argwhere((np_res_flow - np_capacity) == 0)\n",
        "    return [arc_idxs[i[0]] for i in idxs]\n",
        "\n",
        "\n",
        "def get_selected_arcs(arc_idxs, selected_arcs):\n",
        "    arc = []\n",
        "    for idx, i in enumerate(selected_arcs):\n",
        "        if np.isclose(i, 1, rtol=1e-05, atol=1e-08, equal_nan=False): # Vecinity\n",
        "            arc.append(arc_idxs[idx])\n",
        "    return arc\n",
        "\n",
        "\n",
        "def Calculate_distance(nodo1,nodo2):\n",
        "  Distance=(nodo1[0]-nodo2[0])**2+(nodo1[1]-nodo2[1])**2 #The Squared root is not calculated for a quicker calculus\n",
        "  return Distance\n"
      ],
      "execution_count": 2,
      "outputs": []
    },
    {
      "cell_type": "code",
      "metadata": {
        "colab": {
          "base_uri": "https://localhost:8080/",
          "height": 269
        },
        "id": "8M2PQJjSemZS",
        "outputId": "65464e34-5e85-4b20-cbf5-1f256c1d1aa5"
      },
      "source": [
        "#Definition for creating model\n",
        "map_size=[100,100]\n",
        "Q_nodes=10\n",
        "\n",
        "#Creation of nodes\n",
        "nodes = tuple([(np.random.uniform()*map_size[0],np.random.uniform()*map_size[1]) for i in range(0, Q_nodes)])\n",
        "x,y = zip(*nodes)\n",
        "plt.scatter(x, y)\n",
        "for i in range(len(x)):\n",
        "  plt.annotate(i, (x[i] - 1 ,y[i]+1.5), fontsize='large')\n",
        "\n",
        "#Calculus of NN and NA. Everything connected with everything\n",
        "NN=np.ones((Q_nodes,Q_nodes))\n",
        "np.fill_diagonal(NN,0)\n",
        "NA, arc_idxs = NN2NA(NN)\n",
        "\n",
        "#Calculation of all distances between nodes\n",
        "C=[]\n",
        "for i in range(len(nodes)):\n",
        "    for j in range(len(nodes)):\n",
        "      if i!=j:\n",
        "        C=np.append(C,Calculate_distance(nodes[i],nodes[j]))\n",
        "\n",
        "Aeq1=np.where(NA==-1, 0, NA) \n",
        "Aeq2=np.where(NA==1, 0, NA) \n",
        "Aeq2=np.where(Aeq2==-1, 1, Aeq2)\n",
        "Aeq=np.concatenate((Aeq1,Aeq2),axis=0)\n",
        "\n",
        "beq=np.ones((Aeq.shape[0],1))\n"
      ],
      "execution_count": 3,
      "outputs": [
        {
          "output_type": "display_data",
          "data": {
            "image/png": "[encoded data removed]",
            "text/plain": [
              "<Figure size 432x288 with 1 Axes>"
            ]
          },
          "metadata": {
            "needs_background": "light"
          }
        }
      ]
    },
    {
      "cell_type": "code",
      "metadata": {
        "id": "2qA6gDBMlYG4"
      },
      "source": [
        ""
      ],
      "execution_count": 3,
      "outputs": []
    },
    {
      "cell_type": "code",
      "metadata": {
        "id": "d3Jrgw1WJVGq",
        "colab": {
          "base_uri": "https://localhost:8080/"
        },
        "outputId": "dbd3c199-3e2b-423c-b9d4-02f26f5c387e"
      },
      "source": [
        "\n",
        "\n",
        "max_q=None\n",
        "bounds = tuple([(0, max_q) for arcs in range(0, Aeq.shape[1])])\n",
        "\n",
        "print('## Optimizer inputs ## \\n'\n",
        "      'Cost vector: %s \\n\\n '\n",
        "      'Arches in order:\\n%s \\n\\n'\n",
        "      'A_eq Node-Arc matrix:\\n%s \\n\\n'\n",
        "      'b_eq demand-supply vector: %s \\n\\n'\n",
        "      'Bounds of each X arc variable: %s' % (C,arc_idxs,Aeq, beq, bounds))"
      ],
      "execution_count": 4,
      "outputs": [
        {
          "output_type": "stream",
          "name": "stdout",
          "text": [
            "## Optimizer inputs ## \n",
            "Cost vector: [3834.7500084   207.39927028 4954.47143152 1982.19739091 2776.75253794\n",
            "  387.7205719  4529.61583888 1957.58032817  550.09223054 3834.7500084\n",
            " 2307.53301477 2844.4366532   421.12654056 7700.8986001  2644.34623397\n",
            " 1200.42387769 3251.37236615 3953.06313247  207.39927028 2307.53301477\n",
            " 3472.13541634 1030.71059602 2882.17420073  338.85078807 2886.04690817\n",
            " 1327.44773622  815.35027289 4954.47143152 2844.4366532  3472.13541634\n",
            " 3698.53337481 3225.96806629 5664.67787306  388.53290768  906.19971076\n",
            " 7558.02872641 1982.19739091  421.12654056 1030.71059602 3698.53337481\n",
            " 6478.32705653  984.29947096 2102.72675523 2871.09508246 1803.11239909\n",
            " 2776.75253794 7700.8986001  2882.17420073 3225.96806629 6478.32705653\n",
            " 4948.54163383 4748.80390993 1021.91079908 5798.23834667  387.7205719\n",
            " 2644.34623397  338.85078807 5664.67787306  984.29947096 4948.54163383\n",
            " 4476.23505814 2999.40159348  152.60885505 4529.61583888 1200.42387769\n",
            " 2886.04690817  388.53290768 2102.72675523 4748.80390993 4476.23505814\n",
            " 1416.29666952 6272.37364425 1957.58032817 3251.37236615 1327.44773622\n",
            "  906.19971076 2871.09508246 1021.91079908 2999.40159348 1416.29666952\n",
            " 4183.00386335  550.09223054 3953.06313247  815.35027289 7558.02872641\n",
            " 1803.11239909 5798.23834667  152.60885505 6272.37364425 4183.00386335] \n",
            "\n",
            " Arches in order:\n",
            "[(0, 1), (0, 2), (0, 3), (0, 4), (0, 5), (0, 6), (0, 7), (0, 8), (0, 9), (1, 0), (1, 2), (1, 3), (1, 4), (1, 5), (1, 6), (1, 7), (1, 8), (1, 9), (2, 0), (2, 1), (2, 3), (2, 4), (2, 5), (2, 6), (2, 7), (2, 8), (2, 9), (3, 0), (3, 1), (3, 2), (3, 4), (3, 5), (3, 6), (3, 7), (3, 8), (3, 9), (4, 0), (4, 1), (4, 2), (4, 3), (4, 5), (4, 6), (4, 7), (4, 8), (4, 9), (5, 0), (5, 1), (5, 2), (5, 3), (5, 4), (5, 6), (5, 7), (5, 8), (5, 9), (6, 0), (6, 1), (6, 2), (6, 3), (6, 4), (6, 5), (6, 7), (6, 8), (6, 9), (7, 0), (7, 1), (7, 2), (7, 3), (7, 4), (7, 5), (7, 6), (7, 8), (7, 9), (8, 0), (8, 1), (8, 2), (8, 3), (8, 4), (8, 5), (8, 6), (8, 7), (8, 9), (9, 0), (9, 1), (9, 2), (9, 3), (9, 4), (9, 5), (9, 6), (9, 7), (9, 8)] \n",
            "\n",
            "A_eq Node-Arc matrix:\n",
            "[[1. 1. 1. ... 0. 0. 0.]\n",
            " [0. 0. 0. ... 0. 0. 0.]\n",
            " [0. 0. 0. ... 0. 0. 0.]\n",
            " ...\n",
            " [0. 0. 0. ... 0. 1. 0.]\n",
            " [0. 0. 0. ... 0. 0. 1.]\n",
            " [0. 0. 0. ... 0. 0. 0.]] \n",
            "\n",
            "b_eq demand-supply vector: [[1.]\n",
            " [1.]\n",
            " [1.]\n",
            " [1.]\n",
            " [1.]\n",
            " [1.]\n",
            " [1.]\n",
            " [1.]\n",
            " [1.]\n",
            " [1.]\n",
            " [1.]\n",
            " [1.]\n",
            " [1.]\n",
            " [1.]\n",
            " [1.]\n",
            " [1.]\n",
            " [1.]\n",
            " [1.]\n",
            " [1.]\n",
            " [1.]] \n",
            "\n",
            "Bounds of each X arc variable: ((0, None), (0, None), (0, None), (0, None), (0, None), (0, None), (0, None), (0, None), (0, None), (0, None), (0, None), (0, None), (0, None), (0, None), (0, None), (0, None), (0, None), (0, None), (0, None), (0, None), (0, None), (0, None), (0, None), (0, None), (0, None), (0, None), (0, None), (0, None), (0, None), (0, None), (0, None), (0, None), (0, None), (0, None), (0, None), (0, None), (0, None), (0, None), (0, None), (0, None), (0, None), (0, None), (0, None), (0, None), (0, None), (0, None), (0, None), (0, None), (0, None), (0, None), (0, None), (0, None), (0, None), (0, None), (0, None), (0, None), (0, None), (0, None), (0, None), (0, None), (0, None), (0, None), (0, None), (0, None), (0, None), (0, None), (0, None), (0, None), (0, None), (0, None), (0, None), (0, None), (0, None), (0, None), (0, None), (0, None), (0, None), (0, None), (0, None), (0, None), (0, None), (0, None), (0, None), (0, None), (0, None), (0, None), (0, None), (0, None), (0, None), (0, None))\n"
          ]
        }
      ]
    },
    {
      "cell_type": "code",
      "metadata": {
        "id": "rQ74fm7JWlyp",
        "colab": {
          "base_uri": "https://localhost:8080/"
        },
        "outputId": "7766645e-f417-40e1-ded0-b6ccf5a73947"
      },
      "source": [
        "res = linprog(C, A_eq=Aeq, b_eq=beq, bounds=bounds, method='revised simplex')\n",
        "\n",
        "selarcs = get_selected_arcs(arc_idxs, res.x)\n",
        "\n",
        "\n",
        "print('The arches are:          :',arc_idxs)\n",
        "print('The raw solution will be:    %s' % res.x)\n",
        "print('The arcs that make the shortest path will be (from, to): %s' % selarcs)\n",
        "print('The minimum cost of this function that considerds lamda will be: %0.2f (it is not representative of the original problem)' % res.fun)"
      ],
      "execution_count": 5,
      "outputs": [
        {
          "output_type": "stream",
          "name": "stdout",
          "text": [
            "The arches are:          : [(0, 1), (0, 2), (0, 3), (0, 4), (0, 5), (0, 6), (0, 7), (0, 8), (0, 9), (1, 0), (1, 2), (1, 3), (1, 4), (1, 5), (1, 6), (1, 7), (1, 8), (1, 9), (2, 0), (2, 1), (2, 3), (2, 4), (2, 5), (2, 6), (2, 7), (2, 8), (2, 9), (3, 0), (3, 1), (3, 2), (3, 4), (3, 5), (3, 6), (3, 7), (3, 8), (3, 9), (4, 0), (4, 1), (4, 2), (4, 3), (4, 5), (4, 6), (4, 7), (4, 8), (4, 9), (5, 0), (5, 1), (5, 2), (5, 3), (5, 4), (5, 6), (5, 7), (5, 8), (5, 9), (6, 0), (6, 1), (6, 2), (6, 3), (6, 4), (6, 5), (6, 7), (6, 8), (6, 9), (7, 0), (7, 1), (7, 2), (7, 3), (7, 4), (7, 5), (7, 6), (7, 8), (7, 9), (8, 0), (8, 1), (8, 2), (8, 3), (8, 4), (8, 5), (8, 6), (8, 7), (8, 9), (9, 0), (9, 1), (9, 2), (9, 3), (9, 4), (9, 5), (9, 6), (9, 7), (9, 8)]\n",
            "The raw solution will be:    [0. 1. 0. 0. 0. 0. 0. 0. 0. 0. 0. 0. 1. 0. 0. 0. 0. 0. 1. 0. 0. 0. 0. 0.\n",
            " 0. 0. 0. 0. 0. 0. 0. 0. 0. 1. 0. 0. 0. 1. 0. 0. 0. 0. 0. 0. 0. 0. 0. 0.\n",
            " 0. 0. 0. 0. 1. 0. 0. 0. 0. 0. 0. 0. 0. 0. 1. 0. 0. 0. 1. 0. 0. 0. 0. 0.\n",
            " 0. 0. 0. 0. 0. 1. 0. 0. 0. 0. 0. 0. 0. 0. 0. 1. 0. 0.]\n",
            "The arcs that make the shortest path will be (from, to): [(0, 2), (1, 4), (2, 0), (3, 7), (4, 1), (5, 8), (6, 9), (7, 3), (8, 5), (9, 6)]\n",
            "The minimum cost of this function that considerds lamda will be: 4383.16 (it is not representative of the original problem)\n"
          ]
        },
        {
          "output_type": "stream",
          "name": "stderr",
          "text": [
            "/usr/local/lib/python3.7/dist-packages/ipykernel_launcher.py:1: OptimizeWarning: A_eq does not appear to be of full row rank. To improve performance, check the problem formulation for redundant equality constraints.\n",
            "  \"\"\"Entry point for launching an IPython kernel.\n"
          ]
        }
      ]
    },
    {
      "cell_type": "code",
      "metadata": {
        "colab": {
          "base_uri": "https://localhost:8080/",
          "height": 287
        },
        "id": "Ql8raVk5ZDmo",
        "outputId": "f51e756b-c844-4a8c-8a03-e2728faba6d1"
      },
      "source": [
        "plt.scatter(x,y)\n",
        "\n",
        "for i,j in selarcs:\n",
        "  x_values=(x[i],x[j])\n",
        "  y_values=(y[i],y[j])\n",
        "  plt.plot(x_values, y_values)\n",
        "\n",
        "\n",
        "for i in range(len(selarcs)):\n",
        "  plt.annotate(selarcs[i][0], (x[i] - 1 ,y[i]+1.3), fontsize='large')\n",
        "\n",
        "print(\"There are subtours. It is neccesary to generate more restrictions, like D-F-J or M-T-Z propose\")\n",
        "    "
      ],
      "execution_count": 6,
      "outputs": [
        {
          "output_type": "stream",
          "name": "stdout",
          "text": [
            "There are subtours. It is neccesary to generate more restrictions, like D-F-J or M-T-Z propose\n"
          ]
        },
        {
          "output_type": "display_data",
          "data": {
            "image/png": "[encoded data removed]",
            "text/plain": [
              "<Figure size 432x288 with 1 Axes>"
            ]
          },
          "metadata": {
            "needs_background": "light"
          }
        }
      ]
    }
  ]
}