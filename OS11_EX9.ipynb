{
  "nbformat": 4,
  "nbformat_minor": 0,
  "metadata": {
    "colab": {
      "name": "OS11_EX9.ipynb",
      "provenance": []
    },
    "kernelspec": {
      "name": "python3",
      "display_name": "Python 3"
    },
    "language_info": {
      "name": "python"
    }
  },
  "cells": [
    {
      "cell_type": "code",
      "metadata": {
        "id": "C8RiswqfFDrl"
      },
      "source": [
        "import numpy as np\n",
        "from scipy.optimize import linprog\n",
        "import pandas as pd"
      ],
      "execution_count": 11,
      "outputs": []
    },
    {
      "cell_type": "code",
      "metadata": {
        "id": "GtfXUiCwFhX5"
      },
      "source": [
        "def NN2NA(NN):\n",
        "  rows,columns=NN.shape\n",
        "\n",
        "  columns_NA=np.count_nonzero(NN)\n",
        "  if(rows != columns):\n",
        "    print(\"Malformed NN Matrix. rows are not equal to columns\")\n",
        "    return none,none\n",
        "  k=0\n",
        "  NA=np.zeros((rows,columns_NA))\n",
        "  arches = [\"\" for i in range(columns_NA)]\n",
        "\n",
        "  for i in range(columns):\n",
        "    for j in range(rows):\n",
        "      if NN[i,j]==1:\n",
        "        NA[i,k]=1\n",
        "        NA[j,k]=-1\n",
        "        #if i==0:\n",
        "        #  arches[k]=\"s->\"+str(j+1)\n",
        "        #elif j==0:\n",
        "        #  arches[k]=str(i+1)+\"->s\"\n",
        "        #elif i==columns-1:\n",
        "        #  arches[k]=\"t->\"+str(j+1)\n",
        "        #elif j==columns-1:\n",
        "        #  arches[k]=str(i+1)+\"->t\"\n",
        "        #else:\n",
        "        #  arches[k]=str(i+1)+\"->\"+str(j+1)\n",
        "        arches[k]=str(i+1)+\"->\"+str(j+1)\n",
        "        k+=1\n",
        "  return NA, arches\n",
        "\n",
        "\n",
        "def get_usage_string(arc_idxs, res_flow, capacity):\n",
        "    return {arc: '%s/%s' % (flow, cap) for arc, flow, cap in zip(arc_idxs, res_flow, capacity)}\n",
        "\n",
        "def get_min_cut(arc_idxs, np_res_flow, np_capacity):\n",
        "    np_capacity = np.where(np_capacity == None, 999, np_capacity)\n",
        "\n",
        "    idxs = np.argwhere((np_res_flow - np_capacity) == 0)\n",
        "    return [arc_idxs[i[0]] for i in idxs]\n",
        "\n",
        "\n",
        "def get_selected_arcs(arc_idxs, selected_arcs):\n",
        "    arc = []\n",
        "    for idx, i in enumerate(selected_arcs):\n",
        "        if np.isclose(i, 1, rtol=1e-05, atol=1e-08, equal_nan=False): # Vecinity\n",
        "            arc.append(arc_idxs[idx])\n",
        "    return arc"
      ],
      "execution_count": 12,
      "outputs": []
    },
    {
      "cell_type": "code",
      "metadata": {
        "colab": {
          "base_uri": "https://localhost:8080/"
        },
        "id": "d3Jrgw1WJVGq",
        "outputId": "6ef50ed4-26b5-487b-cf8a-6515f9b682d4"
      },
      "source": [
        "\n",
        "NN = np.array([[0, 1, 1, 0, 0, 0],\n",
        "               [0, 0, 0, 1, 0, 1],\n",
        "               [0, 0, 0, 0, 1, 0],\n",
        "               [0, 0, 0, 0, 0, 1],\n",
        "               [0, 0, 0, 0, 0, 1],\n",
        "               [0, 0, 0, 0, 0, 0]])\n",
        "\n",
        "\n",
        "C = np.array([2, 2, 2, 5, 2, 1, 2])\n",
        "\n",
        "Aeq, arc_idxs = NN2NA(NN)\n",
        "beq = np.array([1, 0, 0, 0, 0, -1])\n",
        "\n",
        "max_q=None\n",
        "bounds = tuple([(0, max_q) for arcs in range(0, Aeq.shape[1])])\n",
        "t = [np.array([3, 1, 3, 1, 3, 3, 5])]\n",
        "#t = np.transpose(t)\n",
        "\n",
        "T=9\n",
        "\n",
        "\n",
        "print('## Optimizer inputs ## \\n'\n",
        "      'Cost vector: %s \\n\\n '\n",
        "      'Arches in order:\\n%s \\n\\n'\n",
        "      'A_eq Node-Arc matrix:\\n%s \\n\\n'\n",
        "      'b_eq demand-supply vector: %s \\n\\n'\n",
        "      'Bounds of each X arc variable: %s' % (C,arc_idxs,Aeq, beq, bounds))"
      ],
      "execution_count": 13,
      "outputs": [
        {
          "output_type": "stream",
          "name": "stdout",
          "text": [
            "## Optimizer inputs ## \n",
            "Cost vector: [2 2 2 5 2 1 2] \n",
            "\n",
            " Arches in order:\n",
            "['1->2', '1->3', '2->4', '2->6', '3->5', '4->6', '5->6'] \n",
            "\n",
            "A_eq Node-Arc matrix:\n",
            "[[1.00 1.00 0.00 0.00 0.00 0.00 0.00]\n",
            " [-1.00 0.00 1.00 1.00 0.00 0.00 0.00]\n",
            " [0.00 -1.00 0.00 0.00 1.00 0.00 0.00]\n",
            " [0.00 0.00 -1.00 0.00 0.00 1.00 0.00]\n",
            " [0.00 0.00 0.00 0.00 -1.00 0.00 1.00]\n",
            " [0.00 0.00 0.00 -1.00 0.00 -1.00 -1.00]] \n",
            "\n",
            "b_eq demand-supply vector: [ 1  0  0  0  0 -1] \n",
            "\n",
            "Bounds of each X arc variable: ((0, None), (0, None), (0, None), (0, None), (0, None), (0, None), (0, None))\n"
          ]
        }
      ]
    },
    {
      "cell_type": "code",
      "metadata": {
        "colab": {
          "base_uri": "https://localhost:8080/"
        },
        "id": "PA2dd06rFO5m",
        "outputId": "de885e14-2e76-4ed4-8ffb-78f495f3d4ef"
      },
      "source": [
        "# OPTIMIZE:\n",
        "\n",
        "res = linprog(C, A_eq=Aeq, b_eq=beq, A_ub=t, b_ub=T, bounds=bounds, method='interior-point')  #simplex get negative solution near 0. strange.\n",
        "\n",
        "# GET THE SOLUTION:\n",
        "#usage = get_usage_string(arc_idxs, res.x.astype(int), max_q)\n",
        "min_cut = get_min_cut(arc_idxs, res.x, np.array(max_q))\n",
        "max_flow = res.fun * -1\n",
        "\n",
        "\n",
        "\n",
        "np.set_printoptions(formatter={'float': lambda x: \"{0:0.2f}\".format(x)})\n",
        "\n",
        "\n",
        "selarcs = get_selected_arcs(arc_idxs, res.x)\n",
        "\n",
        "total_time=0\n",
        "for i in selarcs:\n",
        "  index=arc_idxs.index(i)\n",
        "  total_time= total_time+t[0][index]\n",
        "\n",
        "print('The raw solution will be: %s' % res.x)\n",
        "print('The arcs that make the shortest path will be (from, to): %s' % selarcs)\n",
        "print('The minimum cost will be: %0.2f' % res.fun)\n",
        "print('The time would be:',total_time,'\\n\\n')"
      ],
      "execution_count": 14,
      "outputs": [
        {
          "output_type": "stream",
          "name": "stdout",
          "text": [
            "The raw solution will be: [1.00 0.00 1.00 0.00 0.00 1.00 0.00]\n",
            "The arcs that make the shortest path will be (from, to): ['1->2', '2->4', '4->6']\n",
            "The minimum cost will be: 5.00\n",
            "The time would be: 9 \n",
            "\n",
            "\n"
          ]
        },
        {
          "output_type": "stream",
          "name": "stderr",
          "text": [
            "/usr/local/lib/python3.7/dist-packages/ipykernel_launcher.py:3: OptimizeWarning: A_eq does not appear to be of full row rank. To improve performance, check the problem formulation for redundant equality constraints.\n",
            "  This is separate from the ipykernel package so we can avoid doing imports until\n",
            "/usr/local/lib/python3.7/dist-packages/numpy/core/fromnumeric.py:87: VisibleDeprecationWarning: Creating an ndarray from ragged nested sequences (which is a list-or-tuple of lists-or-tuples-or ndarrays with different lengths or shapes) is deprecated. If you meant to do this, you must specify 'dtype=object' when creating the ndarray\n",
            "  return ufunc.reduce(obj, axis, dtype, out, **passkwargs)\n"
          ]
        }
      ]
    },
    {
      "cell_type": "code",
      "metadata": {
        "colab": {
          "base_uri": "https://localhost:8080/"
        },
        "id": "LcX2VBG9SUbc",
        "outputId": "68703b1d-126d-4b63-c2cc-74336fd70777"
      },
      "source": [
        "T=8\n",
        "\n",
        "res = linprog(C, A_eq=Aeq, b_eq=beq, A_ub=t, b_ub=T, bounds=bounds, method='interior-point')  #simplex get negative solution near 0. strange.\n",
        "\n",
        "# GET THE SOLUTION:\n",
        "#usage = get_usage_string(arc_idxs, res.x.astype(int), max_q)\n",
        "min_cut = get_min_cut(arc_idxs, res.x, np.array(max_q))\n",
        "max_flow = res.fun * -1\n",
        "\n",
        "\n",
        "\n",
        "np.set_printoptions(formatter={'float': lambda x: \"{0:0.2f}\".format(x)})\n",
        "\n",
        "\n",
        "selarcs = get_selected_arcs(arc_idxs, res.x)\n",
        "\n",
        "total_time=0\n",
        "for i in selarcs:\n",
        "  index=arc_idxs.index(i)\n",
        "  total_time= total_time+t[0][index]\n",
        "\n",
        "print('The arches are:          :',arc_idxs)\n",
        "print('The raw solution will be:    %s' % res.x)\n",
        "print('The arcs that make the shortest path will be (from, to): %s' % selarcs)\n",
        "print('The minimum cost will be: %0.2f' % res.fun)\n",
        "print('The time would be:',total_time,'\\n\\n')\n",
        "print('The algorithm does not resolve ok the problem.')\n"
      ],
      "execution_count": 15,
      "outputs": [
        {
          "output_type": "stream",
          "name": "stdout",
          "text": [
            "The arches are:          : ['1->2', '1->3', '2->4', '2->6', '3->5', '4->6', '5->6']\n",
            "The raw solution will be:    [1.00 0.00 0.80 0.20 0.00 0.80 0.00]\n",
            "The arcs that make the shortest path will be (from, to): ['1->2']\n",
            "The minimum cost will be: 5.40\n",
            "The time would be: 3 \n",
            "\n",
            "\n",
            "The algorithm does not resolve ok the problem.\n"
          ]
        },
        {
          "output_type": "stream",
          "name": "stderr",
          "text": [
            "/usr/local/lib/python3.7/dist-packages/ipykernel_launcher.py:3: OptimizeWarning: A_eq does not appear to be of full row rank. To improve performance, check the problem formulation for redundant equality constraints.\n",
            "  This is separate from the ipykernel package so we can avoid doing imports until\n",
            "/usr/local/lib/python3.7/dist-packages/numpy/core/fromnumeric.py:87: VisibleDeprecationWarning: Creating an ndarray from ragged nested sequences (which is a list-or-tuple of lists-or-tuples-or ndarrays with different lengths or shapes) is deprecated. If you meant to do this, you must specify 'dtype=object' when creating the ndarray\n",
            "  return ufunc.reduce(obj, axis, dtype, out, **passkwargs)\n"
          ]
        }
      ]
    },
    {
      "cell_type": "code",
      "metadata": {
        "colab": {
          "base_uri": "https://localhost:8080/"
        },
        "id": "De0KSWf9WrMC",
        "outputId": "67a4956a-f9c9-4e94-9efd-3abbd417784a"
      },
      "source": [
        "print('As the result is not as expected, we could implement Integer Linear Programming."
      ],
      "execution_count": 16,
      "outputs": [
        {
          "output_type": "stream",
          "name": "stdout",
          "text": [
            "We can apply an other condition that would be reduce the quantity of arches activated. Bu we should need a new restriction. \n",
            "The arches are:          : ['1->2', '1->3', '2->4', '2->6', '3->5', '4->6', '5->6']\n",
            "The raw solution will be:    [1.00 0.00 0.80 0.20 0.00 0.80 0.00]\n",
            "The arcs that make the shortest path will be (from, to): ['1->2']\n",
            "The minimum cost will be: 5.40\n",
            "The time would be: 3 \n",
            "\n",
            "\n",
            "The algorithm does not resolve ok the problem.\n"
          ]
        },
        {
          "output_type": "stream",
          "name": "stderr",
          "text": [
            "/usr/local/lib/python3.7/dist-packages/ipykernel_launcher.py:5: OptimizeWarning: A_eq does not appear to be of full row rank. To improve performance, check the problem formulation for redundant equality constraints.\n",
            "  \"\"\"\n",
            "/usr/local/lib/python3.7/dist-packages/numpy/core/fromnumeric.py:87: VisibleDeprecationWarning: Creating an ndarray from ragged nested sequences (which is a list-or-tuple of lists-or-tuples-or ndarrays with different lengths or shapes) is deprecated. If you meant to do this, you must specify 'dtype=object' when creating the ndarray\n",
            "  return ufunc.reduce(obj, axis, dtype, out, **passkwargs)\n"
          ]
        }
      ]
    }
  ]
}