{
  "nbformat": 4,
  "nbformat_minor": 0,
  "metadata": {
    "colab": {
      "name": "OS11-EX3.ipynb",
      "provenance": [],
      "collapsed_sections": []
    },
    "kernelspec": {
      "name": "python3",
      "display_name": "Python 3"
    },
    "language_info": {
      "name": "python"
    }
  },
  "cells": [
    {
      "cell_type": "code",
      "metadata": {
        "id": "C8RiswqfFDrl"
      },
      "source": [
        "import numpy as np\n"
      ],
      "execution_count": 1,
      "outputs": []
    },
    {
      "cell_type": "code",
      "metadata": {
        "id": "GtfXUiCwFhX5"
      },
      "source": [
        "def NN2NA(NN):\n",
        "  rows,columns=NN.shape\n",
        "\n",
        "  columns_NA=np.count_nonzero(NN)\n",
        "  if(rows != columns):\n",
        "    print(\"Malformed NN Matrix. rows are not equal to columns\")\n",
        "    return none,none\n",
        "  k=0\n",
        "  NA=np.zeros((rows,columns_NA))\n",
        "  arches = [\"\" for i in range(columns_NA)]\n",
        "\n",
        "  for i in range(columns):\n",
        "    for j in range(rows):\n",
        "      if NN[i,j]==1:\n",
        "        NA[i,k]=1\n",
        "        NA[j,k]=-1\n",
        "        arches[k]=[int(i),int(j)]\n",
        "        k+=1\n",
        "  return NA, arches\n",
        "\n",
        "\n",
        "def obtain_weight(C,arc_idxs,arch):\n",
        "  k=arc_idxs.index(arch)\n",
        "  weight=C[k]\n",
        "  return weight"
      ],
      "execution_count": 2,
      "outputs": []
    },
    {
      "cell_type": "code",
      "metadata": {
        "colab": {
          "base_uri": "https://localhost:8080/"
        },
        "id": "DBK15F14y9Wc",
        "outputId": "944c6fd5-6f1e-43ba-bfd9-765735c05163"
      },
      "source": [
        "\n",
        "NN = np.array([[0, 1, 1, 0, 0, 0],\n",
        "               [0, 0, 0, 1, 0, 1],\n",
        "               [0, 0, 0, 0, 1, 0],\n",
        "               [0, 0, 0, 0, 0, 1],\n",
        "               [0, 0, 0, 0, 0, 1],\n",
        "               [0, 0, 0, 0, 0, 0]])\n",
        "\n",
        "\n",
        "C = np.array([2, 2, 2, 5, 2, 1, 2])\n",
        "Aeq, arc_idxs = NN2NA(NN)\n",
        "beq = np.array([1, 0, 0, 0, 0, -1])\n",
        "bounds = tuple([(0, None) for arcs in range(0, Aeq.shape[1])])\n",
        "\n",
        "w = np.ones(NN.shape[1])*np.inf #weights initialization\n",
        "w[0]=0\n",
        "\n",
        "precedents=[None]*NN.shape[1]  #precedents initialization\n",
        "\n",
        "#print('## Optimizer inputs ## \\n'\n",
        "#      'Cost vector: %s \\n\\n '\n",
        "#      'Arches in order:\\n%s \\n\\n'\n",
        "#      'A_eq Node-Arc matrix:\\n%s \\n\\n'\n",
        "#      'b_eq demand-supply vector: %s \\n\\n'\n",
        "#      'Bounds of each X arc variable: %s' % (C,arc_idxs,Aeq, beq, bounds))\n",
        "\n",
        "stop=0\n",
        "arches_to_explore=arc_idxs.copy() #it is neccesary to convert the array to int\n",
        "next_arches_to_explore=arches_to_explore.copy()\n",
        "nodes_to_explore=[0]\n",
        "count=0\n",
        "\n",
        "print(\"nodes_to_explore     \",nodes_to_explore)\n",
        "print(\"arches_to_explore    \",arches_to_explore)\n",
        "print(\"w                    \",w)\n",
        "print(\"precedents           \",precedents)\n",
        "\n",
        "while (stop==0 and len(nodes_to_explore)>0):  #The idea is to go through all the nodes and arches. Stop is a flag to avoid infinite loops.\n",
        "  next_nodes_to_explore=[]\n",
        "  for node_i in nodes_to_explore: #The algorithm goes through the actual nodes to explore\n",
        "    for arch_i in arches_to_explore:  #It will find the next neighbours of the actual node\n",
        "      node_start=(arch_i[:][0]) #node_start has the number of the node of origin\n",
        "      if node_start==node_i:\n",
        "        node_end=(arch_i[:][1]) #node_end has the number of the node of destination\n",
        "        potential_weight=w[node_start] + obtain_weight(C,arc_idxs,arch_i) #The potential weight is calculated. Then it is compared to the actual weight indexed.\n",
        "        if w[node_end] > potential_weight:  #Here is the comparisson. if the actual weight is bigger than the potential_weight in this iteration, then...\n",
        "          precedents[node_end]=node_start  #now the precedent for the next node is the node that is explored in this iteration\n",
        "          w[node_end]=potential_weight #there is a new weight for this node\n",
        "        if node_end<(NN.shape[1]-1):next_nodes_to_explore.append(node_end)  #If the next node is not the last, there will be an other iteration\n",
        "        next_arches_to_explore.remove(arch_i) #Remove the arches that were explored\n",
        "  nodes_to_explore=next_nodes_to_explore.copy()\n",
        "  arches_to_explore=next_arches_to_explore.copy()\n",
        "  print(\"######################### STEP\",count,\"###############################\")\n",
        "  print(\"nodes_to_explore     \",nodes_to_explore)\n",
        "  print(\"arches_to_explore    \",arches_to_explore)\n",
        "  print(\"w                    \",w)\n",
        "  print(\"precedents           \",precedents)\n",
        "\n",
        "  count+=1\n",
        "  if (count>100): #break the bucle after 100 iterations\n",
        "    stop=1 \n",
        "    print(\"Algorithm stoped because it counted 100 iterations!!!\")\n",
        "\n",
        "\n",
        "print(\"###################### RESULT ##################################\")\n",
        "k=NN.shape[1]-1 #The idea is to start in the last node and find the way back to the origin\n",
        "path=[]\n",
        "s_out=\"\"\n",
        "while (k!=None):\n",
        "  path.insert(0,k)\n",
        "  k=precedents[k]\n",
        "\n",
        "for i in path:\n",
        "  if i==0:\n",
        "    s_out=s_out+\"s->\"\n",
        "  elif i==NN.shape[1]-1:\n",
        "    s_out=s_out+\"t\"\n",
        "  else:\n",
        "    s_out=s_out+str(i+1)+\"->\"\n",
        "print(s_out)"
      ],
      "execution_count": 77,
      "outputs": [
        {
          "output_type": "stream",
          "name": "stdout",
          "text": [
            "nodes_to_explore      [0]\n",
            "arches_to_explore     [[0, 1], [0, 2], [1, 3], [1, 5], [2, 4], [3, 5], [4, 5]]\n",
            "w                     [ 0. inf inf inf inf inf]\n",
            "precedents            [None, None, None, None, None, None]\n",
            "######################### STEP 0 ###############################\n",
            "nodes_to_explore      [1, 2]\n",
            "arches_to_explore     [[1, 3], [1, 5], [2, 4], [3, 5], [4, 5]]\n",
            "w                     [ 0.  2.  2. inf inf inf]\n",
            "precedents            [None, 0, 0, None, None, None]\n",
            "######################### STEP 1 ###############################\n",
            "nodes_to_explore      [3, 4]\n",
            "arches_to_explore     [[3, 5], [4, 5]]\n",
            "w                     [0. 2. 2. 4. 4. 7.]\n",
            "precedents            [None, 0, 0, 1, 2, 1]\n",
            "######################### STEP 2 ###############################\n",
            "nodes_to_explore      []\n",
            "arches_to_explore     []\n",
            "w                     [0. 2. 2. 4. 4. 5.]\n",
            "precedents            [None, 0, 0, 1, 2, 3]\n",
            "###################### RESULT ##################################\n",
            "s->2->4->t\n"
          ]
        }
      ]
    }
  ]
}