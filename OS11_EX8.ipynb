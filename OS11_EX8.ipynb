{
  "nbformat": 4,
  "nbformat_minor": 0,
  "metadata": {
    "colab": {
      "name": "OS11_EX8.ipynb",
      "provenance": []
    },
    "kernelspec": {
      "name": "python3",
      "display_name": "Python 3"
    },
    "language_info": {
      "name": "python"
    }
  },
  "cells": [
    {
      "cell_type": "code",
      "metadata": {
        "id": "C8RiswqfFDrl"
      },
      "source": [
        "import numpy as np\n",
        "from scipy.optimize import linprog\n",
        "import pandas as pd"
      ],
      "execution_count": 45,
      "outputs": []
    },
    {
      "cell_type": "code",
      "metadata": {
        "id": "GtfXUiCwFhX5"
      },
      "source": [
        "def NN2NA(NN):\n",
        "  rows,columns=NN.shape\n",
        "\n",
        "  columns_NA=np.count_nonzero(NN)\n",
        "  if(rows != columns):\n",
        "    print(\"Malformed NN Matrix. rows are not equal to columns\")\n",
        "    return none,none\n",
        "  k=0\n",
        "  NA=np.zeros((rows,columns_NA))\n",
        "  arches = [\"\" for i in range(columns_NA)]\n",
        "\n",
        "  for i in range(columns):\n",
        "    for j in range(rows):\n",
        "      if NN[i,j]==1:\n",
        "        NA[i,k]=1\n",
        "        NA[j,k]=-1\n",
        "        #if i==0:\n",
        "        #  arches[k]=\"s->\"+str(j+1)\n",
        "        #elif j==0:\n",
        "        #  arches[k]=str(i+1)+\"->s\"\n",
        "        #elif i==columns-1:\n",
        "        #  arches[k]=\"t->\"+str(j+1)\n",
        "        #elif j==columns-1:\n",
        "        #  arches[k]=str(i+1)+\"->t\"\n",
        "        #else:\n",
        "        #  arches[k]=str(i+1)+\"->\"+str(j+1)\n",
        "        arches[k]=str(i+1)+\"->\"+str(j+1)\n",
        "        k+=1\n",
        "  return NA, arches\n",
        "\n",
        "\n",
        "def get_usage_string(arc_idxs, res_flow, capacity):\n",
        "    return {arc: '%s/%s' % (flow, cap) for arc, flow, cap in zip(arc_idxs, res_flow, capacity)}\n",
        "\n",
        "def get_min_cut(arc_idxs, np_res_flow, np_capacity):\n",
        "    np_capacity = np.where(np_capacity == None, 999, np_capacity)\n",
        "\n",
        "    idxs = np.argwhere((np_res_flow - np_capacity) == 0)\n",
        "    return [arc_idxs[i[0]] for i in idxs]"
      ],
      "execution_count": 15,
      "outputs": []
    },
    {
      "cell_type": "code",
      "metadata": {
        "colab": {
          "base_uri": "https://localhost:8080/"
        },
        "id": "Xa_D4tyoFM-O",
        "outputId": "d24ac75a-0d8c-4838-c8ab-31e0e983b993"
      },
      "source": [
        "               #P1A P1B P2A P2B P3A P3B S1A S1B S2A S2B V1A V1B V2A V3B V3A V3B\n",
        "NN = np.array([\n",
        "               [0,  0,  0,  0,  0,  0,  1,  0,  1,  0,  0,  0,  0,  0,  0,  0],   #P1A\n",
        "               [0,  0,  0,  0,  0,  0,  0,  1,  0,  1,  0,  0,  0,  0,  0,  0],   #P1B\n",
        "               [0,  0,  0,  0,  0,  0,  1,  0,  1,  0,  0,  0,  0,  0,  0,  0],   #P2A\n",
        "               [0,  0,  0,  0,  0,  0,  0,  1,  0,  1,  0,  0,  0,  0,  0,  0],   #P2B\n",
        "               [0,  0,  0,  0,  0,  0,  1,  0,  1,  0,  0,  0,  0,  0,  0,  0],   #P3A\n",
        "               [0,  0,  0,  0,  0,  0,  0,  1,  0,  1,  0,  0,  0,  0,  0,  0],   #P3B\n",
        "               [0,  0,  0,  0,  0,  0,  0,  0,  0,  0,  1,  0,  1,  0,  1,  0],   #S1A\n",
        "               [0,  0,  0,  0,  0,  0,  0,  0,  0,  0,  0,  1,  0,  1,  0,  1],   #S1B\n",
        "               [0,  0,  0,  0,  0,  0,  0,  0,  0,  0,  1,  0,  1,  0,  1,  0],   #S2A\n",
        "               [0,  0,  0,  0,  0,  0,  0,  0,  0,  0,  0,  1,  0,  1,  0,  1],   #S2B\n",
        "               [0,  0,  0,  0,  0,  0,  0,  0,  0,  0,  0,  0,  0,  0,  0,  0],   #V1A\n",
        "               [0,  0,  0,  0,  0,  0,  0,  0,  0,  0,  0,  0,  0,  0,  0,  0],   #V1B\n",
        "               [0,  0,  0,  0,  0,  0,  0,  0,  0,  0,  0,  0,  0,  0,  0,  0],   #V2A\n",
        "               [0,  0,  0,  0,  0,  0,  0,  0,  0,  0,  0,  0,  0,  0,  0,  0],   #V2B\n",
        "               [0,  0,  0,  0,  0,  0,  0,  0,  0,  0,  0,  0,  0,  0,  0,  0],   #V3A\n",
        "               [0,  0,  0,  0,  0,  0,  0,  0,  0,  0,  0,  0,  0,  0,  0,  0]])  #V3B\n",
        "\n",
        "C = np.array([100, 100, 200, 200, 150, 150, 150, 150, 200, 200, 100, 100,\n",
        "              100, 150, 200, 200, 150, 100, 100, 150, 200, 200, 150, 100])\n",
        "\n",
        "\n",
        "\n",
        "NA, arc_idxs = NN2NA(NN)\n",
        "\n",
        "p=6\n",
        "s=4\n",
        "v=6\n",
        "\n",
        "#Arrays for first restriction\n",
        "MASK=[]\n",
        "a = [np.ones(p*NA.shape[1])]\n",
        "MASK=np.append(MASK,a)\n",
        "a = [np.zeros((s+v)*NA.shape[1])]\n",
        "MASK=np.append(MASK,a)\n",
        "MASK=MASK.reshape((p+s+v),NA.shape[1])\n",
        "Aub=(np.multiply(NA,MASK))\n",
        "\n",
        "bub = np.array([20, 30, 10, 40, 30, 10, 0, 0, 0, 0, 0, 0, 0, 0, 0, 0])\n",
        "bub=np.transpose(bub)\n",
        "\n",
        "#Arrays for second restriction\n",
        "MASK=[]\n",
        "a = [np.zeros(p*NA.shape[1])]\n",
        "MASK=np.append(MASK,a)\n",
        "a = [np.ones((s+v)*NA.shape[1])]\n",
        "MASK=np.append(MASK,a)\n",
        "MASK=MASK.reshape((p+s+v),NA.shape[1])\n",
        "Aeq=(np.multiply(NA,MASK))\n",
        "\n",
        "\n",
        "beq = np.array([0, 0, 0, 0, 0, 0, 0, 0, 0, 0, -30, -40, -10, -20, -20, -20]) \n",
        "beq = np.transpose(bm)\n",
        "\n",
        "max_q=None\n",
        "\n",
        "bounds = tuple([(0, max_q) for arcs in range(0, Aeq.shape[1])])\n",
        "\n",
        "print('## Optimizer inputs ## \\n'\n",
        "      'Cost vector: %s \\n\\n '\n",
        "      'Arches in order:\\n%s \\n\\n'\n",
        "      'A_eq Node-Arc matrix:\\n%s \\n\\n'\n",
        "      'b_eq demand-supply vector: %s \\n\\n'\n",
        "      'Bounds of each X arc variable: %s' % (C,arc_idxs,Aeq, beq, bounds))"
      ],
      "execution_count": 39,
      "outputs": [
        {
          "output_type": "stream",
          "name": "stdout",
          "text": [
            "## Optimizer inputs ## \n",
            "Cost vector: [100 100 200 200 150 150 150 150 200 200 100 100 100 150 200 200 150 100\n",
            " 100 150 200 200 150 100] \n",
            "\n",
            " Arches in order:\n",
            "['1->7', '1->9', '2->8', '2->10', '3->7', '3->9', '4->8', '4->10', '5->7', '5->9', '6->8', '6->10', '7->11', '7->13', '7->15', '8->12', '8->14', '8->16', '9->11', '9->13', '9->15', '10->12', '10->14', '10->16'] \n",
            "\n",
            "A_eq Node-Arc matrix:\n",
            "[[0.00 0.00 0.00 0.00 0.00 0.00 0.00 0.00 0.00 0.00 0.00 0.00 0.00 0.00\n",
            "  0.00 0.00 0.00 0.00 0.00 0.00 0.00 0.00 0.00 0.00]\n",
            " [0.00 0.00 0.00 0.00 0.00 0.00 0.00 0.00 0.00 0.00 0.00 0.00 0.00 0.00\n",
            "  0.00 0.00 0.00 0.00 0.00 0.00 0.00 0.00 0.00 0.00]\n",
            " [0.00 0.00 0.00 0.00 0.00 0.00 0.00 0.00 0.00 0.00 0.00 0.00 0.00 0.00\n",
            "  0.00 0.00 0.00 0.00 0.00 0.00 0.00 0.00 0.00 0.00]\n",
            " [0.00 0.00 0.00 0.00 0.00 0.00 0.00 0.00 0.00 0.00 0.00 0.00 0.00 0.00\n",
            "  0.00 0.00 0.00 0.00 0.00 0.00 0.00 0.00 0.00 0.00]\n",
            " [0.00 0.00 0.00 0.00 0.00 0.00 0.00 0.00 0.00 0.00 0.00 0.00 0.00 0.00\n",
            "  0.00 0.00 0.00 0.00 0.00 0.00 0.00 0.00 0.00 0.00]\n",
            " [0.00 0.00 0.00 0.00 0.00 0.00 0.00 0.00 0.00 0.00 0.00 0.00 0.00 0.00\n",
            "  0.00 0.00 0.00 0.00 0.00 0.00 0.00 0.00 0.00 0.00]\n",
            " [-1.00 0.00 0.00 0.00 -1.00 0.00 0.00 0.00 -1.00 0.00 0.00 0.00 1.00\n",
            "  1.00 1.00 0.00 0.00 0.00 0.00 0.00 0.00 0.00 0.00 0.00]\n",
            " [0.00 0.00 -1.00 0.00 0.00 0.00 -1.00 0.00 0.00 0.00 -1.00 0.00 0.00\n",
            "  0.00 0.00 1.00 1.00 1.00 0.00 0.00 0.00 0.00 0.00 0.00]\n",
            " [0.00 -1.00 0.00 0.00 0.00 -1.00 0.00 0.00 0.00 -1.00 0.00 0.00 0.00\n",
            "  0.00 0.00 0.00 0.00 0.00 1.00 1.00 1.00 0.00 0.00 0.00]\n",
            " [0.00 0.00 0.00 -1.00 0.00 0.00 0.00 -1.00 0.00 0.00 0.00 -1.00 0.00\n",
            "  0.00 0.00 0.00 0.00 0.00 0.00 0.00 0.00 1.00 1.00 1.00]\n",
            " [0.00 0.00 0.00 0.00 0.00 0.00 0.00 0.00 0.00 0.00 0.00 0.00 -1.00 0.00\n",
            "  0.00 0.00 0.00 0.00 -1.00 0.00 0.00 0.00 0.00 0.00]\n",
            " [0.00 0.00 0.00 0.00 0.00 0.00 0.00 0.00 0.00 0.00 0.00 0.00 0.00 0.00\n",
            "  0.00 -1.00 0.00 0.00 0.00 0.00 0.00 -1.00 0.00 0.00]\n",
            " [0.00 0.00 0.00 0.00 0.00 0.00 0.00 0.00 0.00 0.00 0.00 0.00 0.00 -1.00\n",
            "  0.00 0.00 0.00 0.00 0.00 -1.00 0.00 0.00 0.00 0.00]\n",
            " [0.00 0.00 0.00 0.00 0.00 0.00 0.00 0.00 0.00 0.00 0.00 0.00 0.00 0.00\n",
            "  0.00 0.00 -1.00 0.00 0.00 0.00 0.00 0.00 -1.00 0.00]\n",
            " [0.00 0.00 0.00 0.00 0.00 0.00 0.00 0.00 0.00 0.00 0.00 0.00 0.00 0.00\n",
            "  -1.00 0.00 0.00 0.00 0.00 0.00 -1.00 0.00 0.00 0.00]\n",
            " [0.00 0.00 0.00 0.00 0.00 0.00 0.00 0.00 0.00 0.00 0.00 0.00 0.00 0.00\n",
            "  0.00 0.00 0.00 -1.00 0.00 0.00 0.00 0.00 0.00 -1.00]] \n",
            "\n",
            "b_eq demand-supply vector: [  0   0   0   0   0   0   0   0   0   0 -30 -40 -10 -20 -20 -20] \n",
            "\n",
            "Bounds of each X arc variable: ((0, inf), (0, inf), (0, inf), (0, inf), (0, inf), (0, inf), (0, inf), (0, inf), (0, inf), (0, inf), (0, inf), (0, inf), (0, inf), (0, inf), (0, inf), (0, inf), (0, inf), (0, inf), (0, inf), (0, inf), (0, inf), (0, inf), (0, inf), (0, inf))\n"
          ]
        }
      ]
    },
    {
      "cell_type": "code",
      "metadata": {
        "colab": {
          "base_uri": "https://localhost:8080/"
        },
        "id": "PA2dd06rFO5m",
        "outputId": "bf99b812-72e2-41ca-b26d-b63ff49a1965"
      },
      "source": [
        "# OPTIMIZE:\n",
        "\n",
        "res = linprog(C, A_eq=Aeq, b_eq=beq, A_ub=Aub, b_ub=bub, bounds=bounds, method='simplex')\n",
        "\n",
        "# GET THE SOLUTION:\n",
        "#usage = get_usage_string(arc_idxs, res.x.astype(int), max_q)\n",
        "min_cut = get_min_cut(arc_idxs, res.x, np.array(max_q))\n",
        "max_flow = res.fun * -1\n",
        "\n",
        "np.set_printoptions(formatter={'float': lambda x: \"{0:0.2f}\".format(x)})\n",
        "print('## Results ##')\n",
        "#print('The usage of each arc will be %s' % usage)\n",
        "print('The arcs that produce the minimum cut : %s' % min_cut)\n",
        "print('The maximum flow will be: %0.2f\\n\\n\\n' % max_flow)"
      ],
      "execution_count": 58,
      "outputs": [
        {
          "output_type": "stream",
          "name": "stdout",
          "text": [
            "## Results ##\n",
            "The arcs that produce the minimum cut : []\n",
            "The maximum flow will be: -44000.00\n",
            "\n",
            "\n",
            "\n"
          ]
        }
      ]
    },
    {
      "cell_type": "code",
      "metadata": {
        "colab": {
          "base_uri": "https://localhost:8080/"
        },
        "id": "Ke8Z7G9kcaln",
        "outputId": "f4ca2fcd-8250-4674-babd-fd68b8a5a348"
      },
      "source": [
        "print('Results:\\n' % max_flow)\n",
        "df=pd.DataFrame(res.x,index=arc_idxs,columns=['Quantity'])\n",
        "print(df)"
      ],
      "execution_count": 61,
      "outputs": [
        {
          "output_type": "stream",
          "name": "stdout",
          "text": [
            "Results:\n",
            "\n",
            "        Quantity\n",
            "1->7        20.0\n",
            "1->9         0.0\n",
            "2->8        30.0\n",
            "2->10        0.0\n",
            "3->7        10.0\n",
            "3->9         0.0\n",
            "4->8        40.0\n",
            "4->10        0.0\n",
            "5->7        30.0\n",
            "5->9         0.0\n",
            "6->8        10.0\n",
            "6->10        0.0\n",
            "7->11       30.0\n",
            "7->13       10.0\n",
            "7->15       20.0\n",
            "8->12       40.0\n",
            "8->14       20.0\n",
            "8->16       20.0\n",
            "9->11        0.0\n",
            "9->13        0.0\n",
            "9->15        0.0\n",
            "10->12       0.0\n",
            "10->14       0.0\n",
            "10->16       0.0\n"
          ]
        }
      ]
    }
  ]
}