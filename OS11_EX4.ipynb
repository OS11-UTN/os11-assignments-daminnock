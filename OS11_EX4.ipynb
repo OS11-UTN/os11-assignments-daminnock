{
  "nbformat": 4,
  "nbformat_minor": 0,
  "metadata": {
    "colab": {
      "name": "OS11-EX4.ipynb",
      "provenance": []
    },
    "kernelspec": {
      "name": "python3",
      "display_name": "Python 3"
    },
    "language_info": {
      "name": "python"
    }
  },
  "cells": [
    {
      "cell_type": "code",
      "metadata": {
        "id": "C8RiswqfFDrl"
      },
      "source": [
        "import numpy as np\n",
        "from scipy.optimize import linprog"
      ],
      "execution_count": null,
      "outputs": []
    },
    {
      "cell_type": "code",
      "metadata": {
        "id": "GtfXUiCwFhX5"
      },
      "source": [
        "def NN2NA(NN):\n",
        "  rows,columns=NN.shape\n",
        "\n",
        "  columns_NA=np.count_nonzero(NN)\n",
        "  if(rows != columns):\n",
        "    print(\"Malformed NN Matrix. rows are not equal to columns\")\n",
        "    return none,none\n",
        "  k=0\n",
        "  NA=np.zeros((rows,columns_NA))\n",
        "  arches = [\"\" for i in range(columns_NA)]\n",
        "\n",
        "  for i in range(columns):\n",
        "    for j in range(rows):\n",
        "      if NN[i,j]==1:\n",
        "        NA[i,k]=1\n",
        "        NA[j,k]=-1\n",
        "        if i==0:\n",
        "          arches[k]=\"s->\"+str(j+1)\n",
        "        elif j==0:\n",
        "          arches[k]=str(i+1)+\"->s\"\n",
        "        elif i==columns-1:\n",
        "          arches[k]=\"t->\"+str(j+1)\n",
        "        elif j==columns-1:\n",
        "          arches[k]=str(i+1)+\"->t\"\n",
        "        else:\n",
        "          arches[k]=str(i+1)+\"->\"+str(j+1)\n",
        "        k+=1\n",
        "  return NA, arches\n",
        "\n",
        "\n",
        "def get_usage_string(arc_idxs, res_flow, capacity):\n",
        "    return {arc: '%s/%s' % (flow, cap) for arc, flow, cap in zip(arc_idxs, res_flow, capacity)}\n",
        "\n",
        "def get_min_cut(arc_idxs, np_res_flow, np_capacity):\n",
        "    np_capacity = np.where(np_capacity == None, 999, np_capacity)\n",
        "\n",
        "    idxs = np.argwhere((np_res_flow - np_capacity) == 0)\n",
        "    return [arc_idxs[i[0]] for i in idxs]"
      ],
      "execution_count": null,
      "outputs": []
    },
    {
      "cell_type": "code",
      "metadata": {
        "colab": {
          "base_uri": "https://localhost:8080/"
        },
        "id": "Xa_D4tyoFM-O",
        "outputId": "6c9155a2-6a0c-4b04-be17-43ed3c0b0d6a"
      },
      "source": [
        "\n",
        "NN = np.array([[0, 1, 1, 0, 0, 0],\n",
        "               [0, 0, 0, 1, 0, 1],\n",
        "               [0, 0, 0, 0, 1, 0],\n",
        "               [0, 0, 0, 0, 0, 1],\n",
        "               [0, 0, 0, 0, 0, 1],\n",
        "               [1, 0, 0, 0, 0, 0]])\n",
        "\n",
        "\n",
        "Aeq, arc_idxs = NN2NA(NN)\n",
        "C = np.array([0, 0, 0, 0, 0, 0, 0, -1])\n",
        "beq = np.array([0, 0, 0, 0, 0, 0])\n",
        "max_q = [7, 1, 2, 3, 2, 1, 2, None]\n",
        "bounds = tuple([(0, max_q[arcs]) for arcs in range(0, Aeq.shape[1])])\n",
        "\n",
        "print('## Optimizer inputs ## \\n'\n",
        "      'Cost vector: %s \\n\\n '\n",
        "      'Arches in order:\\n%s \\n\\n'\n",
        "      'A_eq Node-Arc matrix:\\n%s \\n\\n'\n",
        "      'b_eq demand-supply vector: %s \\n\\n'\n",
        "      'Bounds of each X arc variable: %s' % (C,arc_idxs,Aeq, beq, bounds))"
      ],
      "execution_count": null,
      "outputs": [
        {
          "output_type": "stream",
          "name": "stdout",
          "text": [
            "## Optimizer inputs ## \n",
            "Cost vector: [ 0  0  0  0  0  0  0 -1] \n",
            "\n",
            " Arches in order:\n",
            "['s->2', 's->3', '2->4', '2->t', '3->5', '4->t', '5->t', '6->s'] \n",
            "\n",
            "A_eq Node-Arc matrix:\n",
            "[[ 1.  1.  0.  0.  0.  0.  0. -1.]\n",
            " [-1.  0.  1.  1.  0.  0.  0.  0.]\n",
            " [ 0. -1.  0.  0.  1.  0.  0.  0.]\n",
            " [ 0.  0. -1.  0.  0.  1.  0.  0.]\n",
            " [ 0.  0.  0.  0. -1.  0.  1.  0.]\n",
            " [ 0.  0.  0. -1.  0. -1. -1.  1.]] \n",
            "\n",
            "b_eq demand-supply vector: [0 0 0 0 0 0] \n",
            "\n",
            "Bounds of each X arc variable: ((0, 7), (0, 1), (0, 2), (0, 3), (0, 2), (0, 1), (0, 2), (0, None))\n"
          ]
        }
      ]
    },
    {
      "cell_type": "code",
      "metadata": {
        "colab": {
          "base_uri": "https://localhost:8080/"
        },
        "id": "PA2dd06rFO5m",
        "outputId": "134abaaa-f483-44f8-9f0e-0c0288eea4a6"
      },
      "source": [
        "# OPTIMIZE:\n",
        "\n",
        "res = linprog(C, A_eq=Aeq, b_eq=beq, bounds=bounds, method='simplex')\n",
        "\n",
        "# GET THE SOLUTION:\n",
        "usage = get_usage_string(arc_idxs, res.x.astype(int), max_q)\n",
        "min_cut = get_min_cut(arc_idxs, res.x, np.array(max_q))\n",
        "max_flow = res.fun * -1\n",
        "\n",
        "np.set_printoptions(formatter={'float': lambda x: \"{0:0.2f}\".format(x)})\n",
        "print('## Results ##')\n",
        "print('The usage of each arc will be %s' % usage)\n",
        "print('The arcs that produce the minimum cut : %s' % min_cut)\n",
        "print('The maximum flow will be: %0.2f\\n\\n\\n' % max_flow)"
      ],
      "execution_count": null,
      "outputs": [
        {
          "output_type": "stream",
          "name": "stdout",
          "text": [
            "## Results ##\n",
            "The usage of each arc will be (from, to) {'s->2': '4/7', 's->3': '1/1', '2->4': '1/2', '2->t': '3/3', '3->5': '1/2', '4->t': '1/1', '5->t': '1/2', '6->s': '5/None'}\n",
            "The arcs that produce the minimum cut (from, to): ['s->3', '2->t', '4->t']\n",
            "The maximum flow will be: 5.00\n",
            "\n",
            "\n",
            "\n"
          ]
        },
        {
          "output_type": "stream",
          "name": "stderr",
          "text": [
            "/usr/local/lib/python3.7/dist-packages/ipykernel_launcher.py:3: OptimizeWarning: A_eq does not appear to be of full row rank. To improve performance, check the problem formulation for redundant equality constraints.\n",
            "  This is separate from the ipykernel package so we can avoid doing imports until\n"
          ]
        }
      ]
    }
  ]
}