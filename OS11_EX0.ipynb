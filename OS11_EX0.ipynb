{
  "nbformat": 4,
  "nbformat_minor": 0,
  "metadata": {
    "colab": {
      "name": "OS11-EX0.ipynb",
      "provenance": [],
      "collapsed_sections": []
    },
    "kernelspec": {
      "name": "python3",
      "display_name": "Python 3"
    },
    "language_info": {
      "name": "python"
    }
  },
  "cells": [
    {
      "cell_type": "code",
      "metadata": {
        "id": "RwL6Ml90Qnrn"
      },
      "source": [
        "import numpy as np"
      ],
      "execution_count": null,
      "outputs": []
    },
    {
      "cell_type": "code",
      "metadata": {
        "colab": {
          "base_uri": "https://localhost:8080/"
        },
        "id": "Irznih7CRXCj",
        "outputId": "1f2ea71e-fbd7-43f4-91fd-16595288a41f"
      },
      "source": [
        "NN=np.array([[0,1,0],\n",
        "             [0,0,1],\n",
        "             [1,0,0]])\n",
        "\n",
        "print(NN)"
      ],
      "execution_count": null,
      "outputs": [
        {
          "output_type": "stream",
          "name": "stdout",
          "text": [
            "[[0 1 0]\n",
            " [0 0 1]\n",
            " [1 0 0]]\n"
          ]
        }
      ]
    },
    {
      "cell_type": "code",
      "metadata": {
        "colab": {
          "base_uri": "https://localhost:8080/"
        },
        "id": "p56CzLkhSD-5",
        "outputId": "811067b8-4be6-44a5-e7f0-e68096d01e6e"
      },
      "source": [
        "\n",
        "rows,columns=NN.shape\n",
        "\n",
        "columns_NA=np.count_nonzero(NN)\n",
        "#comparar si rows=columnas, sino, error\n",
        "\n",
        "\n",
        "k=0\n",
        "NA=np.zeros((rows,columns_NA))\n",
        "arches = [\"\" for i in range(columns_NA)]\n",
        "\n",
        "for i in range(columns):\n",
        "  for j in range(rows):\n",
        "      if NN[i,j]==1:\n",
        "        NA[i,k]=1\n",
        "        NA[j,k]=-1\n",
        "        if i==0:\n",
        "          arches[k]=\"s->\"+str(j+1)\n",
        "        elif j==0:\n",
        "          arches[k]=str(i+1)+\"->s\"\n",
        "        elif i==columns-1:\n",
        "          arches[k]=\"t->\"+str(j+1)\n",
        "        elif j==columns-1:\n",
        "          arches[k]=str(i+1)+\"->t\"\n",
        "        else:\n",
        "          arches[k]=str(i+1)+\"->\"+str(j+1)\n",
        "        k+=1\n",
        "\n",
        "print(\"Arches = \",arches)\n",
        "print(NA)\n"
      ],
      "execution_count": null,
      "outputs": [
        {
          "output_type": "stream",
          "name": "stdout",
          "text": [
            "Arches =  ['s->2', '2->t', '3->s']\n",
            "[[ 1.  0. -1.]\n",
            " [-1.  1.  0.]\n",
            " [ 0. -1.  1.]]\n"
          ]
        }
      ]
    }
  ]
}